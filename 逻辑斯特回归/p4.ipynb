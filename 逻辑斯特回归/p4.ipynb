{
 "cells": [
  {
   "cell_type": "code",
   "execution_count": 85,
   "metadata": {
    "collapsed": true
   },
   "outputs": [],
   "source": [
    "import numpy as np\n",
    "import pandas as pd\n",
    "import matplotlib.pyplot as plt\n",
    "from   scipy.optimize import minimize\n",
    "from   sklearn.preprocessing import PolynomialFeatures\n",
    "%matplotlib inline"
   ]
  },
  {
   "cell_type": "code",
   "execution_count": 86,
   "metadata": {
    "collapsed": true
   },
   "outputs": [],
   "source": [
    "def loaddata(file, dim):\n",
    "    data = np.loadtxt(file, delimiter=dim)\n",
    "    print data[:, :6]\n",
    "    return data\n",
    "\n",
    "def plotdata(data, lb_x, lb_y, t_x, t_y, axes=None):\n",
    "    neg = data[:,2] == 1\n",
    "    pos = data[:,2] == 0\n",
    "    neg_data = data[neg]\n",
    "    pos_data = data[pos]\n",
    "    if axes == None:\n",
    "        axes = plt.gca()\n",
    "    axes.scatter(neg_data[:,0], neg_data[:,1], marker='+', c='k', linewidth=2, label=t_x)\n",
    "    axes.scatter(pos_data[:,0], pos_data[:,1], marker='o', c='y', linewidth=2, label=t_y)\n",
    "    axes.set_xlabel(lb_x)\n",
    "    axes.set_ylabel(lb_y)\n",
    "    axes.legend(frameon=True, fancybox=True)\n",
    "    \n",
    "def sigmoid(theta, X):\n",
    "    theta = theta.reshape(-1, 1)\n",
    "    z = X.dot(theta)\n",
    "    s = (1.0 / (1.0 + np.exp(-z)))\n",
    "    return s\n",
    "\n",
    "def cF(theta, X, y):\n",
    "    theta = theta.reshape(-1, 1)\n",
    "    y = y.reshape(-1, 1)\n",
    "    h = sigmoid(theta, X)\n",
    "    m = y.size\n",
    "    J = (-1.0 / m) * (np.log(h).T.dot(y) + np.log(1 - h).T.dot(1 - y))\n",
    "    if np.isnan(J[0]):\n",
    "        return np.inf\n",
    "    else:\n",
    "        return J[0]\n",
    "    \n",
    "def gt(theta, X, y):\n",
    "    theta = theta.reshape(-1, 1)\n",
    "    y = y.reshape(-1, 1)\n",
    "    h = sigmoid(theta, X)\n",
    "    m = y.size\n",
    "    grad = (1.0 / m) * X.T.dot(h - y)\n",
    "    return grad.flatten()"
   ]
  },
  {
   "cell_type": "code",
   "execution_count": 87,
   "metadata": {
    "collapsed": true
   },
   "outputs": [],
   "source": [
    "#线性边界"
   ]
  },
  {
   "cell_type": "code",
   "execution_count": 88,
   "metadata": {},
   "outputs": [
    {
     "name": "stdout",
     "output_type": "stream",
     "text": [
      "[[ 34.62365962  78.02469282   0.        ]\n",
      " [ 30.28671077  43.89499752   0.        ]\n",
      " [ 35.84740877  72.90219803   0.        ]\n",
      " [ 60.18259939  86.3085521    1.        ]\n",
      " [ 79.03273605  75.34437644   1.        ]\n",
      " [ 45.08327748  56.31637178   0.        ]\n",
      " [ 61.10666454  96.51142588   1.        ]\n",
      " [ 75.02474557  46.55401354   1.        ]\n",
      " [ 76.0987867   87.42056972   1.        ]\n",
      " [ 84.43281996  43.53339331   1.        ]\n",
      " [ 95.86155507  38.22527806   0.        ]\n",
      " [ 75.01365839  30.60326323   0.        ]\n",
      " [ 82.30705337  76.4819633    1.        ]\n",
      " [ 69.36458876  97.71869196   1.        ]\n",
      " [ 39.53833914  76.03681085   0.        ]\n",
      " [ 53.97105215  89.20735014   1.        ]\n",
      " [ 69.07014406  52.74046973   1.        ]\n",
      " [ 67.94685548  46.67857411   0.        ]\n",
      " [ 70.66150955  92.92713789   1.        ]\n",
      " [ 76.97878373  47.57596365   1.        ]\n",
      " [ 67.37202755  42.83843832   0.        ]\n",
      " [ 89.67677575  65.79936593   1.        ]\n",
      " [ 50.53478829  48.85581153   0.        ]\n",
      " [ 34.21206098  44.2095286    0.        ]\n",
      " [ 77.92409145  68.97235999   1.        ]\n",
      " [ 62.27101367  69.95445795   1.        ]\n",
      " [ 80.19018075  44.82162893   1.        ]\n",
      " [ 93.1143888   38.80067034   0.        ]\n",
      " [ 61.83020602  50.25610789   0.        ]\n",
      " [ 38.7858038   64.99568096   0.        ]\n",
      " [ 61.37928945  72.80788731   1.        ]\n",
      " [ 85.40451939  57.05198398   1.        ]\n",
      " [ 52.10797973  63.12762377   0.        ]\n",
      " [ 52.04540477  69.43286012   1.        ]\n",
      " [ 40.23689374  71.16774802   0.        ]\n",
      " [ 54.63510555  52.21388588   0.        ]\n",
      " [ 33.91550011  98.86943574   0.        ]\n",
      " [ 64.17698887  80.90806059   1.        ]\n",
      " [ 74.78925296  41.57341523   0.        ]\n",
      " [ 34.18364003  75.23772034   0.        ]\n",
      " [ 83.90239366  56.30804622   1.        ]\n",
      " [ 51.54772027  46.85629026   0.        ]\n",
      " [ 94.44336777  65.56892161   1.        ]\n",
      " [ 82.36875376  40.61825516   0.        ]\n",
      " [ 51.04775177  45.82270146   0.        ]\n",
      " [ 62.22267576  52.06099195   0.        ]\n",
      " [ 77.19303493  70.4582       1.        ]\n",
      " [ 97.77159928  86.72782233   1.        ]\n",
      " [ 62.0730638   96.76882412   1.        ]\n",
      " [ 91.5649745   88.69629255   1.        ]\n",
      " [ 79.94481794  74.16311935   1.        ]\n",
      " [ 99.27252693  60.999031     1.        ]\n",
      " [ 90.54671411  43.39060181   1.        ]\n",
      " [ 34.52451385  60.39634246   0.        ]\n",
      " [ 50.28649612  49.80453881   0.        ]\n",
      " [ 49.58667722  59.80895099   0.        ]\n",
      " [ 97.64563396  68.86157272   1.        ]\n",
      " [ 32.57720017  95.59854761   0.        ]\n",
      " [ 74.24869137  69.82457123   1.        ]\n",
      " [ 71.79646206  78.45356225   1.        ]\n",
      " [ 75.39561147  85.75993667   1.        ]\n",
      " [ 35.28611282  47.02051395   0.        ]\n",
      " [ 56.2538175   39.26147251   0.        ]\n",
      " [ 30.05882245  49.59297387   0.        ]\n",
      " [ 44.66826172  66.45008615   0.        ]\n",
      " [ 66.56089447  41.09209808   0.        ]\n",
      " [ 40.45755098  97.53518549   1.        ]\n",
      " [ 49.07256322  51.88321182   0.        ]\n",
      " [ 80.27957401  92.11606081   1.        ]\n",
      " [ 66.74671857  60.99139403   1.        ]\n",
      " [ 32.72283304  43.30717306   0.        ]\n",
      " [ 64.03932042  78.03168802   1.        ]\n",
      " [ 72.34649423  96.22759297   1.        ]\n",
      " [ 60.45788574  73.0949981    1.        ]\n",
      " [ 58.84095622  75.85844831   1.        ]\n",
      " [ 99.8278578   72.36925193   1.        ]\n",
      " [ 47.26426911  88.475865     1.        ]\n",
      " [ 50.4581598   75.80985953   1.        ]\n",
      " [ 60.45555629  42.50840944   0.        ]\n",
      " [ 82.22666158  42.71987854   0.        ]\n",
      " [ 88.91389642  69.8037889    1.        ]\n",
      " [ 94.83450672  45.6943068    1.        ]\n",
      " [ 67.31925747  66.58935318   1.        ]\n",
      " [ 57.23870632  59.51428198   1.        ]\n",
      " [ 80.366756    90.9601479    1.        ]\n",
      " [ 68.46852179  85.5943071    1.        ]\n",
      " [ 42.07545454  78.844786     0.        ]\n",
      " [ 75.47770201  90.424539     1.        ]\n",
      " [ 78.63542435  96.64742717   1.        ]\n",
      " [ 52.34800399  60.76950526   0.        ]\n",
      " [ 94.09433113  77.15910509   1.        ]\n",
      " [ 90.44855097  87.50879176   1.        ]\n",
      " [ 55.48216114  35.57070347   0.        ]\n",
      " [ 74.49269242  84.84513685   1.        ]\n",
      " [ 89.84580671  45.35828361   1.        ]\n",
      " [ 83.48916274  48.3802858    1.        ]\n",
      " [ 42.26170081  87.10385094   1.        ]\n",
      " [ 99.31500881  68.77540947   1.        ]\n",
      " [ 55.34001756  64.93193801   1.        ]\n",
      " [ 74.775893    89.5298129    1.        ]]\n"
     ]
    },
    {
     "data": {
      "image/png": "[encoded data removed]",
      "text/plain": [
       "<matplotlib.figure.Figure at 0xa87cb70>"
      ]
     },
     "metadata": {},
     "output_type": "display_data"
    }
   ],
   "source": [
    "data1 = loaddata(\"data1.txt\", \",\")\n",
    "plotdata(data1, \"E1 Score\", \"E2 Score\", \"Pass\", \"Fail\")\n"
   ]
  },
  {
   "cell_type": "code",
   "execution_count": 89,
   "metadata": {},
   "outputs": [
    {
     "name": "stderr",
     "output_type": "stream",
     "text": [
      "C:\\ProgramData\\Anaconda2\\lib\\site-packages\\ipykernel_launcher.py:30: RuntimeWarning: divide by zero encountered in log\n"
     ]
    },
    {
     "data": {
      "text/plain": [
       "<matplotlib.contour.QuadContourSet at 0xa95a650>"
      ]
     },
     "execution_count": 89,
     "metadata": {},
     "output_type": "execute_result"
    },
    {
     "data": {
      "image/png": "[encoded data removed]",
      "text/plain": [
       "<matplotlib.figure.Figure at 0xab0d110>"
      ]
     },
     "metadata": {},
     "output_type": "display_data"
    }
   ],
   "source": [
    "#梯度最小化损失函数\n",
    "theta = np.c_[np.zeros(data1.shape[1])]\n",
    "X = np.c_[np.ones(data1.shape[0]), data1[:,:2]]\n",
    "y = np.c_[data1[:,2]]\n",
    "res1 = minimize(cF, theta, args=(X,y), jac=gt, options={\"maxiter\":500})\n",
    "#绘制线性边界\n",
    "x1_min, x1_max = X[:,1].min(), X[:,1].max()\n",
    "x2_min, x2_max = X[:,2].min(), X[:,2].max()\n",
    "xx1, xx2 = np.meshgrid(np.linspace(x1_min, x1_max), np.linspace(x1_min, x2_max))\n",
    "XX = np.c_[np.ones(xx1.ravel().size), xx1.ravel(), xx2.ravel()]\n",
    "h = sigmoid(res1.x, XX)\n",
    "h = h.reshape(xx1.shape)\n",
    "plotdata(data1, \"E1 Score\", \"E2 Score\", \"Pass\", \"Fail\")\n",
    "plt.contour(xx1, xx2, h, [0.5], linwidth=1, colors='b')"
   ]
  },
  {
   "cell_type": "code",
   "execution_count": 90,
   "metadata": {
    "collapsed": true
   },
   "outputs": [],
   "source": [
    "# 非线性边界"
   ]
  },
  {
   "cell_type": "code",
   "execution_count": 91,
   "metadata": {},
   "outputs": [
    {
     "name": "stdout",
     "output_type": "stream",
     "text": [
      "[[ 0.051267   0.69956    1.       ]\n",
      " [-0.092742   0.68494    1.       ]\n",
      " [-0.21371    0.69225    1.       ]\n",
      " [-0.375      0.50219    1.       ]\n",
      " [-0.51325    0.46564    1.       ]\n",
      " [-0.52477    0.2098     1.       ]\n",
      " [-0.39804    0.034357   1.       ]\n",
      " [-0.30588   -0.19225    1.       ]\n",
      " [ 0.016705  -0.40424    1.       ]\n",
      " [ 0.13191   -0.51389    1.       ]\n",
      " [ 0.38537   -0.56506    1.       ]\n",
      " [ 0.52938   -0.5212     1.       ]\n",
      " [ 0.63882   -0.24342    1.       ]\n",
      " [ 0.73675   -0.18494    1.       ]\n",
      " [ 0.54666    0.48757    1.       ]\n",
      " [ 0.322      0.5826     1.       ]\n",
      " [ 0.16647    0.53874    1.       ]\n",
      " [-0.046659   0.81652    1.       ]\n",
      " [-0.17339    0.69956    1.       ]\n",
      " [-0.47869    0.63377    1.       ]\n",
      " [-0.60541    0.59722    1.       ]\n",
      " [-0.62846    0.33406    1.       ]\n",
      " [-0.59389    0.005117   1.       ]\n",
      " [-0.42108   -0.27266    1.       ]\n",
      " [-0.11578   -0.39693    1.       ]\n",
      " [ 0.20104   -0.60161    1.       ]\n",
      " [ 0.46601   -0.53582    1.       ]\n",
      " [ 0.67339   -0.53582    1.       ]\n",
      " [-0.13882    0.54605    1.       ]\n",
      " [-0.29435    0.77997    1.       ]\n",
      " [-0.26555    0.96272    1.       ]\n",
      " [-0.16187    0.8019     1.       ]\n",
      " [-0.17339    0.64839    1.       ]\n",
      " [-0.28283    0.47295    1.       ]\n",
      " [-0.36348    0.31213    1.       ]\n",
      " [-0.30012    0.027047   1.       ]\n",
      " [-0.23675   -0.21418    1.       ]\n",
      " [-0.06394   -0.18494    1.       ]\n",
      " [ 0.062788  -0.16301    1.       ]\n",
      " [ 0.22984   -0.41155    1.       ]\n",
      " [ 0.2932    -0.2288     1.       ]\n",
      " [ 0.48329   -0.18494    1.       ]\n",
      " [ 0.64459   -0.14108    1.       ]\n",
      " [ 0.46025    0.012427   1.       ]\n",
      " [ 0.6273     0.15863    1.       ]\n",
      " [ 0.57546    0.26827    1.       ]\n",
      " [ 0.72523    0.44371    1.       ]\n",
      " [ 0.22408    0.52412    1.       ]\n",
      " [ 0.44297    0.67032    1.       ]\n",
      " [ 0.322      0.69225    1.       ]\n",
      " [ 0.13767    0.57529    1.       ]\n",
      " [-0.0063364  0.39985    1.       ]\n",
      " [-0.092742   0.55336    1.       ]\n",
      " [-0.20795    0.35599    1.       ]\n",
      " [-0.20795    0.17325    1.       ]\n",
      " [-0.43836    0.21711    1.       ]\n",
      " [-0.21947   -0.016813   1.       ]\n",
      " [-0.13882   -0.27266    1.       ]\n",
      " [ 0.18376    0.93348    0.       ]\n",
      " [ 0.22408    0.77997    0.       ]\n",
      " [ 0.29896    0.61915    0.       ]\n",
      " [ 0.50634    0.75804    0.       ]\n",
      " [ 0.61578    0.7288     0.       ]\n",
      " [ 0.60426    0.59722    0.       ]\n",
      " [ 0.76555    0.50219    0.       ]\n",
      " [ 0.92684    0.3633     0.       ]\n",
      " [ 0.82316    0.27558    0.       ]\n",
      " [ 0.96141    0.085526   0.       ]\n",
      " [ 0.93836    0.012427   0.       ]\n",
      " [ 0.86348   -0.082602   0.       ]\n",
      " [ 0.89804   -0.20687    0.       ]\n",
      " [ 0.85196   -0.36769    0.       ]\n",
      " [ 0.82892   -0.5212     0.       ]\n",
      " [ 0.79435   -0.55775    0.       ]\n",
      " [ 0.59274   -0.7405     0.       ]\n",
      " [ 0.51786   -0.5943     0.       ]\n",
      " [ 0.46601   -0.41886    0.       ]\n",
      " [ 0.35081   -0.57968    0.       ]\n",
      " [ 0.28744   -0.76974    0.       ]\n",
      " [ 0.085829  -0.75512    0.       ]\n",
      " [ 0.14919   -0.57968    0.       ]\n",
      " [-0.13306   -0.4481     0.       ]\n",
      " [-0.40956   -0.41155    0.       ]\n",
      " [-0.39228   -0.25804    0.       ]\n",
      " [-0.74366   -0.25804    0.       ]\n",
      " [-0.69758    0.041667   0.       ]\n",
      " [-0.75518    0.2902     0.       ]\n",
      " [-0.69758    0.68494    0.       ]\n",
      " [-0.4038     0.70687    0.       ]\n",
      " [-0.38076    0.91886    0.       ]\n",
      " [-0.50749    0.90424    0.       ]\n",
      " [-0.54781    0.70687    0.       ]\n",
      " [ 0.10311    0.77997    0.       ]\n",
      " [ 0.057028   0.91886    0.       ]\n",
      " [-0.10426    0.99196    0.       ]\n",
      " [-0.081221   1.1089     0.       ]\n",
      " [ 0.28744    1.087      0.       ]\n",
      " [ 0.39689    0.82383    0.       ]\n",
      " [ 0.63882    0.88962    0.       ]\n",
      " [ 0.82316    0.66301    0.       ]\n",
      " [ 0.67339    0.64108    0.       ]\n",
      " [ 1.0709     0.10015    0.       ]\n",
      " [-0.046659  -0.57968    0.       ]\n",
      " [-0.23675   -0.63816    0.       ]\n",
      " [-0.15035   -0.36769    0.       ]\n",
      " [-0.49021   -0.3019     0.       ]\n",
      " [-0.46717   -0.13377    0.       ]\n",
      " [-0.28859   -0.060673   0.       ]\n",
      " [-0.61118   -0.067982   0.       ]\n",
      " [-0.66302   -0.21418    0.       ]\n",
      " [-0.59965   -0.41886    0.       ]\n",
      " [-0.72638   -0.082602   0.       ]\n",
      " [-0.83007    0.31213    0.       ]\n",
      " [-0.72062    0.53874    0.       ]\n",
      " [-0.59389    0.49488    0.       ]\n",
      " [-0.48445    0.99927    0.       ]\n",
      " [-0.0063364  0.99927    0.       ]\n",
      " [ 0.63265   -0.030612   0.       ]]\n"
     ]
    },
    {
     "data": {
      "image/png": "[encoded data removed]",
      "text/plain": [
       "<matplotlib.figure.Figure at 0xa952370>"
      ]
     },
     "metadata": {},
     "output_type": "display_data"
    }
   ],
   "source": [
    "data2 = loaddata(\"data2.txt\",\",\")\n",
    "plotdata(data2, \"Ex1\", \"Ex2\", \"Pass\", \"Fail\")"
   ]
  },
  {
   "cell_type": "code",
   "execution_count": 92,
   "metadata": {
    "collapsed": true
   },
   "outputs": [],
   "source": [
    "#增加特征值"
   ]
  },
  {
   "cell_type": "code",
   "execution_count": 93,
   "metadata": {
    "collapsed": true
   },
   "outputs": [],
   "source": [
    "poly = PolynomialFeatures(6)\n",
    "X_P = poly.fit_transform(data2[:,:2])\n",
    "theta = np.c_[np.zeros(X_P.shape[1])]\n",
    "y = data2[:,2]"
   ]
  },
  {
   "cell_type": "code",
   "execution_count": 94,
   "metadata": {
    "collapsed": true
   },
   "outputs": [],
   "source": [
    "#定义函数\n",
    "def cFR(theta, X, y, R):\n",
    "    theta = theta.reshape(-1,1)\n",
    "    y = y.reshape(-1,1)\n",
    "    m = y.size\n",
    "    h = sigmoid(theta, X)\n",
    "    J = (-1.0 / m) * (np.log(h).T.dot(y) + np.log(1 - h).T.dot(1 - y)) + (1.0 * R / (2 * m)) * sum(np.square(theta))\n",
    "    if np.isnan(J[0]):\n",
    "        return np.inf\n",
    "    else:\n",
    "        return J[0]\n",
    "    \n",
    "def gR(theta, X, y, R):\n",
    "    theta = theta.reshape(-1, 1)\n",
    "    y = y.reshape(-1,1)\n",
    "    m = y.size\n",
    "    h = sigmoid(theta, X)\n",
    "    grad = (1.0 / m) * X.T.dot(h - y) + (1.0 * R / m) * theta \n",
    "    return grad.flatten()   \n",
    "    \n",
    "def predict(theta, X, y, threshold=0.5):\n",
    "    theta = theta.reshape(-1, 1)\n",
    "    y = y.reshape(-1, 1)\n",
    "    h = sigmoid(theta, X) >= threshold\n",
    "    p = h.astype('int') == y\n",
    "    acc = 100.0 * sum(p)[0] / y.size\n",
    "    return acc\n"
   ]
  },
  {
   "cell_type": "code",
   "execution_count": 1,
   "metadata": {
    "scrolled": true
   },
   "outputs": [
    {
     "ename": "NameError",
     "evalue": "name 'plt' is not defined",
     "output_type": "error",
     "traceback": [
      "\u001b[1;31m---------------------------------------------------------------------------\u001b[0m",
      "\u001b[1;31mNameError\u001b[0m                                 Traceback (most recent call last)",
      "\u001b[1;32m<ipython-input-1-aac9091af7fc>\u001b[0m in \u001b[0;36m<module>\u001b[1;34m()\u001b[0m\n\u001b[0;32m      1\u001b[0m \u001b[1;31m#绘制决策边界\u001b[0m\u001b[1;33m\u001b[0m\u001b[1;33m\u001b[0m\u001b[0m\n\u001b[1;32m----> 2\u001b[1;33m \u001b[0mfig\u001b[0m\u001b[1;33m,\u001b[0m \u001b[0maxes\u001b[0m \u001b[1;33m=\u001b[0m \u001b[0mplt\u001b[0m\u001b[1;33m.\u001b[0m\u001b[0msubplots\u001b[0m\u001b[1;33m(\u001b[0m\u001b[1;36m1\u001b[0m\u001b[1;33m,\u001b[0m \u001b[1;36m3\u001b[0m\u001b[1;33m,\u001b[0m \u001b[0msharey\u001b[0m\u001b[1;33m=\u001b[0m\u001b[0mTrue\u001b[0m\u001b[1;33m,\u001b[0m \u001b[0mfigsize\u001b[0m\u001b[1;33m=\u001b[0m\u001b[1;33m(\u001b[0m\u001b[1;36m17\u001b[0m\u001b[1;33m,\u001b[0m \u001b[1;36m5\u001b[0m\u001b[1;33m)\u001b[0m\u001b[1;33m)\u001b[0m\u001b[1;33m\u001b[0m\u001b[0m\n\u001b[0m\u001b[0;32m      3\u001b[0m \u001b[1;31m#非线性边界LR回归\u001b[0m\u001b[1;33m\u001b[0m\u001b[1;33m\u001b[0m\u001b[0m\n\u001b[0;32m      4\u001b[0m \u001b[1;32mfor\u001b[0m \u001b[0mi\u001b[0m\u001b[1;33m,\u001b[0m \u001b[0mR\u001b[0m \u001b[1;32min\u001b[0m \u001b[0menumerate\u001b[0m\u001b[1;33m(\u001b[0m\u001b[1;33m[\u001b[0m\u001b[1;36m0\u001b[0m\u001b[1;33m,\u001b[0m \u001b[1;36m1\u001b[0m\u001b[1;33m,\u001b[0m \u001b[1;36m100\u001b[0m\u001b[1;33m]\u001b[0m\u001b[1;33m)\u001b[0m\u001b[1;33m:\u001b[0m\u001b[1;33m\u001b[0m\u001b[0m\n\u001b[0;32m      5\u001b[0m     \u001b[0mtheta\u001b[0m \u001b[1;33m=\u001b[0m \u001b[0mnp\u001b[0m\u001b[1;33m.\u001b[0m\u001b[0mzeros\u001b[0m\u001b[1;33m(\u001b[0m\u001b[0mX_P\u001b[0m\u001b[1;33m.\u001b[0m\u001b[0mshape\u001b[0m\u001b[1;33m[\u001b[0m\u001b[1;36m1\u001b[0m\u001b[1;33m]\u001b[0m\u001b[1;33m)\u001b[0m\u001b[1;33m\u001b[0m\u001b[0m\n",
      "\u001b[1;31mNameError\u001b[0m: name 'plt' is not defined"
     ]
    }
   ],
   "source": [
    "#绘制决策边界\n",
    "fig, axes = plt.subplots(1, 3, sharey=True, figsize=(17, 5))\n",
    "#非线性边界LR回归\n",
    "for i, R in enumerate([0, 1, 100]):\n",
    "    theta = np.zeros(X_P.shape[1])\n",
    "    res2  = minimize(cFR, theta, args=(X_P, y, R), jac=gR, options={\"maxiter\":3000})\n",
    "    res3  = minimize(costFR, theta, args=(X_P, y, R), jac=gradientReg, options={\"maxiter\":3000})\n",
    "    #形成网格点\n",
    "    x1_min, x1_max = data2[:,0].min(), data2[:,0].max()\n",
    "    x2_min, x2_max = data2[:,1].min(), data2[:,1].max()\n",
    "    xx1, xx2 = np.meshgrid(np.linspace(x1_min, x1_max), np.linspace(x2_min, x2_max))\n",
    "    X_P_G = poly.fit_transform(np.c_[xx1.ravel(), xx2.ravel()])\n",
    "    h = sigmoid(res2.x, X_P_G)\n",
    "    h = h.reshape(xx1.shape)\n",
    "    #绘制决策边界\n",
    "    axes.flatten()[i].contour(xx1, xx2, h, [0.5,0.6,0.7], linwidth=1, colors='g')\n",
    "    #绘制散点图\n",
    "    plotdata(data2, \"Ex1 Score\", \"Ex2 Score\", \"Pass\", \"Fail\", axes.flatten()[i])\n",
    "    #显示精确度\n",
    "    accuracy  = predict(res2.x, X_P, y)\n",
    "    #计算准确率\n",
    "    axes.flatten()[i].set_title(\"Accuracy {}% lambda={}\".format(np.round(accuracy, decimals=2), R))"
   ]
  },
  {
   "cell_type": "code",
   "execution_count": null,
   "metadata": {
    "collapsed": true
   },
   "outputs": [],
   "source": []
  }
 ],
 "metadata": {
  "kernelspec": {
   "display_name": "Python 2",
   "language": "python",
   "name": "python2"
  },
  "language_info": {
   "codemirror_mode": {
    "name": "ipython",
    "version": 2
   },
   "file_extension": ".py",
   "mimetype": "text/x-python",
   "name": "python",
   "nbconvert_exporter": "python",
   "pygments_lexer": "ipython2",
   "version": "2.7.13"
  }
 },
 "nbformat": 4,
 "nbformat_minor": 2
}
