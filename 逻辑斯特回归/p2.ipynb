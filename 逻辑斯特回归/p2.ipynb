{
 "cells": [
  {
   "cell_type": "code",
   "execution_count": 76,
   "metadata": {
    "collapsed": true
   },
   "outputs": [],
   "source": [
    "#初始化包\n",
    "import numpy as np\n",
    "import matplotlib.pyplot as plt\n",
    "from scipy.optimize import minimize\n",
    "from sklearn.preprocessing import PolynomialFeatures"
   ]
  },
  {
   "cell_type": "code",
   "execution_count": 77,
   "metadata": {
    "collapsed": true
   },
   "outputs": [],
   "source": [
    "#在notebook中显示图片\n",
    "%matplotlib inline"
   ]
  },
  {
   "cell_type": "code",
   "execution_count": 78,
   "metadata": {
    "collapsed": true
   },
   "outputs": [],
   "source": [
    "#导入文件数据的方法\n",
    "def loaddata(file, dim):\n",
    "    data = np.loadtxt(file, delimiter=dim)\n",
    "    print data[:6,:]\n",
    "    return data"
   ]
  },
  {
   "cell_type": "code",
   "execution_count": 79,
   "metadata": {},
   "outputs": [],
   "source": [
    "#定义绘图的方法\n",
    "def plotdata(data, l_x, l_y, l_pos, l_neg, axes=None):\n",
    "    neg = data[:, 2] == 0\n",
    "    pos = data[:, 2] == 1\n",
    "    if axes == None:\n",
    "        axes = plt.gca()\n",
    "    axes.scatter(data[pos][:, 0], data[pos][:, 1], marker = '+', c = 'k', s = 60, linewidth = 2, label = l_pos)\n",
    "    axes.scatter(data[neg][:, 0], data[neg][:, 1], marker = 'o', c = 'y', s = 60, linewidth = 2, label = l_neg)\n",
    "    axes.set_xlabel(l_x)   \n",
    "    axes.set_ylabel(l_y)\n",
    "    axes.legend(frameon=True, fancybox=True)"
   ]
  },
  {
   "cell_type": "code",
   "execution_count": 80,
   "metadata": {
    "collapsed": true
   },
   "outputs": [],
   "source": [
    "#定义sigmoid函数\n",
    "def sigmoid(z):\n",
    "    r = 1.0 / (1 + np.exp( -z ))\n",
    "    return r"
   ]
  },
  {
   "cell_type": "code",
   "execution_count": 81,
   "metadata": {
    "collapsed": true
   },
   "outputs": [],
   "source": [
    "#定义损失函数\n",
    "def costF(theta, X, y):\n",
    "     m = y.size\n",
    "     #y必须为列向量\n",
    "     y = y.reshape(-1, 1)\n",
    "     theta = theta.reshape(-1, 1) \n",
    "     h = sigmoid(X.dot(theta))         \n",
    "     J = (-1.0 / m) * (np.log(h).T.dot(y) + np.log(1 - h).T.dot(1 - y))\n",
    "     if np.isnan(J[0]):\n",
    "        return np.inf\n",
    "     else:\n",
    "        return J[0]"
   ]
  },
  {
   "cell_type": "code",
   "execution_count": 82,
   "metadata": {
    "collapsed": true
   },
   "outputs": [],
   "source": [
    "#定义梯度下降函数\n",
    "def gradient(theta, X, y):\n",
    "    m = y.size\n",
    "    theta = theta.reshape(-1, 1)\n",
    "    y = y.reshape(-1, 1)\n",
    "    h = sigmoid(X.dot(theta))\n",
    "    grad = (1.0 / m) * X.T.dot(h - y)\n",
    "    return grad.flatten()"
   ]
  },
  {
   "cell_type": "code",
   "execution_count": 83,
   "metadata": {},
   "outputs": [
    {
     "name": "stdout",
     "output_type": "stream",
     "text": [
      "[[ 34.62365962  78.02469282   0.        ]\n",
      " [ 30.28671077  43.89499752   0.        ]\n",
      " [ 35.84740877  72.90219803   0.        ]\n",
      " [ 60.18259939  86.3085521    1.        ]\n",
      " [ 79.03273605  75.34437644   1.        ]\n",
      " [ 45.08327748  56.31637178   0.        ]]\n"
     ]
    }
   ],
   "source": [
    "#调用文本数据\n",
    "data = loaddata(\"data1.txt\", \",\")"
   ]
  },
  {
   "cell_type": "code",
   "execution_count": 84,
   "metadata": {},
   "outputs": [
    {
     "data": {
      "image/png": "[encoded data removed]",
      "text/plain": [
       "<matplotlib.figure.Figure at 0x7ac1bd0>"
      ]
     },
     "metadata": {},
     "output_type": "display_data"
    }
   ],
   "source": [
    "#绘制初始的样本集的散点图\n",
    "plotdata(data, \"Exam1 score\", \"Exam2 score\", \"Pass\", \"Fail\")"
   ]
  },
  {
   "cell_type": "code",
   "execution_count": 85,
   "metadata": {},
   "outputs": [
    {
     "name": "stderr",
     "output_type": "stream",
     "text": [
      "C:\\ProgramData\\Anaconda2\\lib\\site-packages\\ipykernel_launcher.py:8: RuntimeWarning: divide by zero encountered in log\n",
      "  \n"
     ]
    }
   ],
   "source": [
    "#初始化样本集\n",
    "y = np.c_[data[:,2]] #必须为列向量\n",
    "X = np.c_[np.ones(y.shape[0]), data[:,:2]]\n",
    "#初始化theta的值\n",
    "theta = np.c_[np.zeros(X.shape[1])] #必须为列向量\n",
    "#调用minimize进行损失函数的最小化\n",
    "res = minimize(costF, theta, args=(X, y), method=None, jac=gradient, options={\"maxiter\":400})"
   ]
  },
  {
   "cell_type": "code",
   "execution_count": 86,
   "metadata": {
    "collapsed": true
   },
   "outputs": [],
   "source": [
    "#预测函数：\n",
    "def predict(theta, X, threshold=0.5):\n",
    "    theta = theta.reshape(-1, 1)\n",
    "    p = sigmoid(X.dot(theta)) >= threshold \n",
    "    return p.astype(\"int\")"
   ]
  },
  {
   "cell_type": "code",
   "execution_count": 87,
   "metadata": {},
   "outputs": [
    {
     "name": "stdout",
     "output_type": "stream",
     "text": [
      "89\n",
      "train_aacuracy 89.0%\n"
     ]
    }
   ],
   "source": [
    "#预测整个样本集的值\n",
    "p = predict(res.x, X)\n",
    "print sum( p == y)[0]\n",
    "#计算准确率\n",
    "accuracy = (100.0 *  sum( p == y)[0]) / y.size \n",
    "print \"train_aacuracy {}%\".format(accuracy)"
   ]
  },
  {
   "cell_type": "code",
   "execution_count": 88,
   "metadata": {},
   "outputs": [
    {
     "data": {
      "text/plain": [
       "<matplotlib.contour.QuadContourSet at 0x81e6f50>"
      ]
     },
     "execution_count": 88,
     "metadata": {},
     "output_type": "execute_result"
    },
    {
     "data": {
      "image/png": "[encoded data removed]",
      "text/plain": [
       "<matplotlib.figure.Figure at 0xa25df70>"
      ]
     },
     "metadata": {},
     "output_type": "display_data"
    }
   ],
   "source": [
    "#绘制决策边界\n",
    "#形成网格点样本集\n",
    "x1_min, x1_max = X[:,1].min(), X[:,1].max()\n",
    "x2_min, x2_max = X[:,2].min(), X[:,2].max()\n",
    "xx1, xx2 = np.meshgrid(np.linspace(x1_min, x1_max), np.linspace(x2_min, x2_max))\n",
    "XX = np.c_[np.ones(xx1.size), xx1.ravel(), xx2.ravel()]\n",
    "#计算网格点的sigmoid的值\n",
    "h = sigmoid(XX.dot(res.x))\n",
    "h = h.reshape(xx1.shape)\n",
    "#绘制散点图\n",
    "plotdata(data, \"Exam1 score\", \"Exam2 score\", \"Fail\", \"Pass\")\n",
    "#绘制决策边界\n",
    "plt.contour(xx1, xx2, h, [0.5], linewidth=1, colors='b')"
   ]
  },
  {
   "cell_type": "code",
   "execution_count": 92,
   "metadata": {
    "collapsed": true
   },
   "outputs": [],
   "source": [
    "#非线性边界LR回归\n",
    "#定义带正则化项的损失函数\n",
    "def costFR(theta, X, y, Reg):\n",
    "    m = y.size\n",
    "    theta = theta.reshape(-1, 1)\n",
    "    y = y.reshape(-1, 1)\n",
    "    h = sigmoid(X.dot(theta))\n",
    "    J = (-1.0 / m) * (np.log(h).T.dot(y) + np.log(1 - h).T.dot(1 - y)) + ((1.0 * Reg)/ (2 * m)) * sum(np.square(theta))\n",
    "    if np.isnan(J[0]):\n",
    "        return np.inf\n",
    "    else:\n",
    "        return J[0]\n",
    "    \n",
    "#定义带正则化项的梯度函数\n",
    "def gradientReg(theta, X, y, Reg):\n",
    "    m = y.size\n",
    "    theta = theta.reshape(-1, 1)\n",
    "    y = y.reshape(-1, 1)\n",
    "    h = sigmoid(X.dot(theta))\n",
    "    grad = (1.0 / m) * X.T.dot(h - y) + ((1.0 * Reg) / m) * theta \n",
    "    return grad.ravel()\n"
   ]
  },
  {
   "cell_type": "code",
   "execution_count": 93,
   "metadata": {},
   "outputs": [
    {
     "name": "stdout",
     "output_type": "stream",
     "text": [
      "[[ 0.051267  0.69956   1.      ]\n",
      " [-0.092742  0.68494   1.      ]\n",
      " [-0.21371   0.69225   1.      ]\n",
      " [-0.375     0.50219   1.      ]\n",
      " [-0.51325   0.46564   1.      ]\n",
      " [-0.52477   0.2098    1.      ]]\n"
     ]
    }
   ],
   "source": [
    "#读入数剧\n",
    "data1 = loaddata(\"data2.txt\", \",\")"
   ]
  },
  {
   "cell_type": "code",
   "execution_count": null,
   "metadata": {
    "collapsed": true
   },
   "outputs": [],
   "source": []
  },
  {
   "cell_type": "code",
   "execution_count": 98,
   "metadata": {},
   "outputs": [
    {
     "name": "stdout",
     "output_type": "stream",
     "text": [
      "#\n",
      "[ 0.69314718]\n",
      "[  8.47457627e-03   1.87880932e-02   7.77711864e-05   5.03446395e-02\n",
      "   1.15013308e-02   3.76648474e-02   1.83559872e-02   7.32393391e-03\n",
      "   8.19244468e-03   2.34764889e-02   3.93486234e-02   2.23923907e-03\n",
      "   1.28600503e-02   3.09593720e-03   3.93028171e-02   1.99707467e-02\n",
      "   4.32983232e-03   3.38643902e-03   5.83822078e-03   4.47629067e-03\n",
      "   3.10079849e-02   3.10312442e-02   1.09740238e-03   6.31570797e-03\n",
      "   4.08503006e-04   7.26504316e-03   1.37646175e-03   3.87936363e-02]\n",
      "[   35.10188941    44.11912847    69.27185439  -344.27886516  -198.23454101\n",
      "  -184.22832495  -295.82023501  -621.73259173  -510.84925388  -328.31178249\n",
      "  1094.69981802  1269.58561429  1757.74838729   900.93753051   436.5887353\n",
      "   471.12011453  1236.23867855  1822.82035473  1929.66748644  1131.05303373\n",
      "   463.79925361 -1142.11694456 -2020.9590703  -3463.3992842  -3484.51030339\n",
      " -3252.26685787 -1546.00895996  -510.41263637]\n",
      "[1 1 1 1 1 1 1 0 1 1 1 1 1 1 1 1 1 1 1 1 0 1 1 0 1 0 1 1 1 1 1 1 1 1 1 1 1\n",
      " 1 1 1 1 1 1 1 1 1 1 1 1 1 1 1 1 1 1 1 1 1 0 0 1 0 0 0 0 0 0 0 0 0 0 0 0 0\n",
      " 0 0 1 0 0 0 1 0 0 0 0 0 0 0 0 0 0 0 0 0 0 0 0 0 0 0 0 0 0 0 0 0 1 1 0 0 0\n",
      " 0 0 0 1 0 0 0]\n",
      "[ 1.  1.  1.  1.  1.  1.  1.  1.  1.  1.  1.  1.  1.  1.  1.  1.  1.  1.\n",
      "  1.  1.  1.  1.  1.  1.  1.  1.  1.  1.  1.  1.  1.  1.  1.  1.  1.  1.\n",
      "  1.  1.  1.  1.  1.  1.  1.  1.  1.  1.  1.  1.  1.  1.  1.  1.  1.  1.\n",
      "  1.  1.  1.  1.  0.  0.  0.  0.  0.  0.  0.  0.  0.  0.  0.  0.  0.  0.\n",
      "  0.  0.  0.  0.  0.  0.  0.  0.  0.  0.  0.  0.  0.  0.  0.  0.  0.  0.\n",
      "  0.  0.  0.  0.  0.  0.  0.  0.  0.  0.  0.  0.  0.  0.  0.  0.  0.  0.\n",
      "  0.  0.  0.  0.  0.  0.  0.  0.  0.  0.]\n",
      "[108]\n",
      "[ 10800.]\n",
      "118\n",
      "[ 91.52542373]\n",
      "[ 1.14216777  0.60159663  1.16719545 -1.87133829 -0.91585491 -1.27009709\n",
      "  0.12635743 -0.36845898 -0.34493717 -0.17359465 -1.42386126 -0.04896996\n",
      " -0.60654119 -0.26932569 -1.16298464 -0.24354149 -0.20689069 -0.0433884\n",
      " -0.28027298 -0.28676043 -0.46905353 -1.03650746  0.02900085 -0.29266121\n",
      "  0.01716382 -0.32900567 -0.13798774 -0.93193359]\n",
      "[1 1 1 1 1 1 1 1 1 1 1 1 1 0 1 1 1 1 1 1 1 1 0 0 1 0 1 0 1 1 0 1 1 1 1 1 1\n",
      " 1 1 1 1 1 1 1 1 1 0 1 1 1 1 1 1 1 1 1 1 1 0 1 1 0 0 0 0 0 0 0 0 0 0 0 0 0\n",
      " 0 0 1 1 0 0 1 1 0 1 0 0 0 0 1 0 0 1 1 0 0 0 0 0 0 0 0 0 0 0 1 0 1 1 0 0 0\n",
      " 0 0 0 1 0 0 1]\n",
      "[ 1.  1.  1.  1.  1.  1.  1.  1.  1.  1.  1.  1.  1.  1.  1.  1.  1.  1.\n",
      "  1.  1.  1.  1.  1.  1.  1.  1.  1.  1.  1.  1.  1.  1.  1.  1.  1.  1.\n",
      "  1.  1.  1.  1.  1.  1.  1.  1.  1.  1.  1.  1.  1.  1.  1.  1.  1.  1.\n",
      "  1.  1.  1.  1.  0.  0.  0.  0.  0.  0.  0.  0.  0.  0.  0.  0.  0.  0.\n",
      "  0.  0.  0.  0.  0.  0.  0.  0.  0.  0.  0.  0.  0.  0.  0.  0.  0.  0.\n",
      "  0.  0.  0.  0.  0.  0.  0.  0.  0.  0.  0.  0.  0.  0.  0.  0.  0.  0.\n",
      "  0.  0.  0.  0.  0.  0.  0.  0.  0.  0.]\n",
      "[96]\n",
      "[ 9600.]\n",
      "118\n"
     ]
    },
    {
     "name": "stderr",
     "output_type": "stream",
     "text": [
      "C:\\ProgramData\\Anaconda2\\lib\\site-packages\\ipykernel_launcher.py:3: RuntimeWarning: overflow encountered in exp\n",
      "  This is separate from the ipykernel package so we can avoid doing imports until\n"
     ]
    },
    {
     "name": "stdout",
     "output_type": "stream",
     "text": [
      "[ 81.3559322]\n",
      "[ 0.00468519 -0.01727028  0.00641811 -0.05402535 -0.01327386 -0.03727034\n",
      " -0.01821338 -0.00760977 -0.00885247 -0.02224653 -0.04288317 -0.00238567\n",
      " -0.01393121 -0.00354775 -0.04072359 -0.02078684 -0.00467175 -0.00354971\n",
      " -0.00624859 -0.0050035  -0.03153264 -0.03381525 -0.00108325 -0.00694157\n",
      " -0.00039445 -0.00788561 -0.00157661 -0.04058927]\n",
      "[0 0 0 0 0 0 1 1 0 0 0 0 0 0 0 0 0 0 0 0 0 0 0 0 0 0 0 0 0 0 0 0 0 0 1 1 1\n",
      " 1 1 0 0 0 0 0 0 0 0 0 0 0 0 0 0 1 1 1 1 1 0 0 0 0 0 0 0 0 0 0 0 0 0 0 0 0\n",
      " 0 0 0 0 0 0 0 0 0 0 0 0 0 0 0 0 0 0 0 0 0 0 0 0 0 0 0 0 0 0 0 0 0 1 0 0 0\n",
      " 0 0 0 0 0 0 0]\n",
      "[ 1.  1.  1.  1.  1.  1.  1.  1.  1.  1.  1.  1.  1.  1.  1.  1.  1.  1.\n",
      "  1.  1.  1.  1.  1.  1.  1.  1.  1.  1.  1.  1.  1.  1.  1.  1.  1.  1.\n",
      "  1.  1.  1.  1.  1.  1.  1.  1.  1.  1.  1.  1.  1.  1.  1.  1.  1.  1.\n",
      "  1.  1.  1.  1.  0.  0.  0.  0.  0.  0.  0.  0.  0.  0.  0.  0.  0.  0.\n",
      "  0.  0.  0.  0.  0.  0.  0.  0.  0.  0.  0.  0.  0.  0.  0.  0.  0.  0.\n",
      "  0.  0.  0.  0.  0.  0.  0.  0.  0.  0.  0.  0.  0.  0.  0.  0.  0.  0.\n",
      "  0.  0.  0.  0.  0.  0.  0.  0.  0.  0.]\n",
      "[71]\n",
      "[ 7100.]\n",
      "118\n",
      "[ 60.16949153]\n"
     ]
    },
    {
     "data": {
      "image/png": "[encoded data removed]",
      "text/plain": [
       "<matplotlib.figure.Figure at 0x7379c70>"
      ]
     },
     "metadata": {},
     "output_type": "display_data"
    }
   ],
   "source": [
    "#形成样本集（非线性边界，因此要进行特征映射）\n",
    "poly = PolynomialFeatures(6)\n",
    "#形成多项式的特征集\n",
    "XXX = poly.fit_transform(data1[:,:2])\n",
    "#形成样本集的值\n",
    "y = np.c_[data1[:,2]]\n",
    "#形成theta的值\n",
    "theta = np.c_[np.zeros(XXX.shape[1])]\n",
    "\n",
    "#初始化图像的参数\n",
    "fig, axes = plt.subplots(1, 3, sharey=True, figsize=(17, 5))\n",
    "#最小化损失函数\n",
    "for i, reg in enumerate([0, 1, 100]):\n",
    "    #最小化损失函数\n",
    "    res = minimize(costFR, theta, args=(XXX, y, reg), method=None, jac=gradientReg, options={\"maxiter\":3000})\n",
    "    #最小化损失函数\n",
    "    res = minimize(costFR, theta, args=(XXX, y, reg), method=None, jac=gradientReg, options={\"maxiter\":3000})\n",
    "    print res.x\n",
    "    #形成网格点\n",
    "    x1_min, x1_max = data1[:, 0].min(), data1[:, 0].max()\n",
    "    x2_min, x2_max = data1[:, 1].min(), data1[:, 1].max()\n",
    "    xx1, xx2 = np.meshgrid(np.linspace(x1_min, x1_max), np.linspace(x2_min, x2_max))\n",
    "    XXXX = poly.fit_transform(np.c_[xx1.ravel(), xx2.ravel()])\n",
    "    h = sigmoid(XXXX.dot(res.x.reshape(-1, 1)))\n",
    "    h = h.reshape(xx1.shape)\n",
    "    #绘制边界\n",
    "    axes.flatten()[i].contour(xx1, xx2, h, [0.4], linwidth=1, colors='g')\n",
    "    #绘制散点图\n",
    "    plotdata(data1, \"Exam1 score\", \"Exam2 score\", \"Pass\", \"Fail\", axes.flatten()[i])\n",
    "    #显示预测的准确率\n",
    "    accuracy = 100.0 * sum(predict(res.x, XXX) == y) / y.size\n",
    "    axes.flatten()[i].set_title(\"Train accuracy is {}% lambda = {}\".format(np.round(accuracy, decimals=1), reg))"
   ]
  },
  {
   "cell_type": "code",
   "execution_count": null,
   "metadata": {
    "collapsed": true
   },
   "outputs": [],
   "source": []
  },
  {
   "cell_type": "code",
   "execution_count": null,
   "metadata": {
    "collapsed": true
   },
   "outputs": [],
   "source": []
  },
  {
   "cell_type": "code",
   "execution_count": null,
   "metadata": {
    "collapsed": true
   },
   "outputs": [],
   "source": []
  },
  {
   "cell_type": "code",
   "execution_count": null,
   "metadata": {
    "collapsed": true
   },
   "outputs": [],
   "source": []
  },
  {
   "cell_type": "code",
   "execution_count": null,
   "metadata": {
    "collapsed": true
   },
   "outputs": [],
   "source": []
  },
  {
   "cell_type": "code",
   "execution_count": null,
   "metadata": {
    "collapsed": true
   },
   "outputs": [],
   "source": []
  },
  {
   "cell_type": "code",
   "execution_count": null,
   "metadata": {
    "collapsed": true
   },
   "outputs": [],
   "source": []
  },
  {
   "cell_type": "code",
   "execution_count": null,
   "metadata": {
    "collapsed": true
   },
   "outputs": [],
   "source": []
  },
  {
   "cell_type": "code",
   "execution_count": null,
   "metadata": {
    "collapsed": true
   },
   "outputs": [],
   "source": []
  },
  {
   "cell_type": "code",
   "execution_count": null,
   "metadata": {
    "collapsed": true
   },
   "outputs": [],
   "source": []
  }
 ],
 "metadata": {
  "kernelspec": {
   "display_name": "Python 2",
   "language": "python",
   "name": "python2"
  },
  "language_info": {
   "codemirror_mode": {
    "name": "ipython",
    "version": 2
   },
   "file_extension": ".py",
   "mimetype": "text/x-python",
   "name": "python",
   "nbconvert_exporter": "python",
   "pygments_lexer": "ipython2",
   "version": "2.7.13"
  }
 },
 "nbformat": 4,
 "nbformat_minor": 2
}
