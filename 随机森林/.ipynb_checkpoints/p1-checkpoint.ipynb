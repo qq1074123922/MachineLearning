{
 "cells": [
  {
   "cell_type": "code",
   "execution_count": 80,
   "metadata": {
    "collapsed": true
   },
   "outputs": [],
   "source": [
    "import pandas as pd\n",
    "import numpy as np\n",
    "import matplotlib.pyplot as plt\n",
    "import randomforests as rf\n",
    "import sklearn.ensemble as sk\n",
    "import sklearn.metrics as skm\n",
    "from sklearn.preprocessing import PolynomialFeatures\n",
    "from scipy.optimize import minimize\n",
    "%matplotlib inline"
   ]
  },
  {
   "cell_type": "code",
   "execution_count": 85,
   "metadata": {},
   "outputs": [
    {
     "name": "stdout",
     "output_type": "stream",
     "text": [
      "0.980228136882\n",
      "Accuracy 83.65%\n"
     ]
    },
    {
     "data": {
      "image/png": "[encoded data removed]",
      "text/plain": [
       "<matplotlib.figure.Figure at 0xc95bd30>"
      ]
     },
     "metadata": {},
     "output_type": "display_data"
    }
   ],
   "source": [
    "#数据导入\n",
    "datatrain = pd.read_csv(\"samtrain.csv\")\n",
    "dataval = pd.read_csv(\"samval.csv\")\n",
    "#数据清洗\n",
    "map_dict = {'laying':1, 'sitting':2,'standing':3, 'walk':4, 'walkup':5, 'walkdown':6}\n",
    "datatrain = rf.remap_col(datatrain, \"activity\", map_dict)\n",
    "dataval = rf.remap_col(dataval, \"activity\", map_dict)\n",
    "#随机森林分类器(有500个决策树)数据初始化\n",
    "rfc = sk.RandomForestClassifier(n_estimators=500, oob_score=True)\n",
    "X = datatrain[datatrain.columns[1:-2]] #所有样本中，第一列到最后一列\n",
    "y = datatrain['activity']\n",
    "#训练一个RF分类器\n",
    "model = rfc.fit(X, y)\n",
    "#得到该模型预测的精度\n",
    "acc = model.oob_score_\n",
    "print acc\n",
    "#得到最重要的10个特征\n",
    "fi = enumerate(model.feature_importances_)\n",
    "cols = datatrain.columns\n",
    "[(value, cols[i]) for i,value in fi if value > 0.04]\n",
    "#用该模型在验证集进行验证\n",
    "X_V = dataval[dataval.columns[1:-2]]\n",
    "y_v = dataval['activity']\n",
    "p_v = model.predict(X_V)\n",
    "acc_v = np.round(100.0 * sum(p_v == y_v) / y_v.size, decimals=2)\n",
    "print \"Accuracy {}%\".format(acc_v)\n",
    "#提取被错误分类的样本\n",
    "cm = skm.confusion_matrix(y_v, p_v)\n",
    "#图像化混淆矩阵\n",
    "axes = plt.gca()\n",
    "axes.matshow(cm)\n",
    "axes.set_title(\"Confusion Matrix\")\n",
    "#得到该模型的各种准确率\n",
    "acc1 = skm.accuracy_score(y_v, p_v)  #分类器的准确率\n",
    "#acc2 = skm.precision_score(y_v, p_v) #某分类中正确样本的比例\n",
    "#acc3 = skm.recall_score(y_v, p_v)    #召回率\n",
    "#acc4 = skm.f1_score(y_v, p_v)        #f1 \n"
   ]
  },
  {
   "cell_type": "code",
   "execution_count": null,
   "metadata": {
    "collapsed": true
   },
   "outputs": [],
   "source": []
  },
  {
   "cell_type": "code",
   "execution_count": null,
   "metadata": {
    "collapsed": true
   },
   "outputs": [],
   "source": []
  }
 ],
 "metadata": {
  "kernelspec": {
   "display_name": "Python 2",
   "language": "python",
   "name": "python2"
  },
  "language_info": {
   "codemirror_mode": {
    "name": "ipython",
    "version": 2
   },
   "file_extension": ".py",
   "mimetype": "text/x-python",
   "name": "python",
   "nbconvert_exporter": "python",
   "pygments_lexer": "ipython2",
   "version": "2.7.13"
  }
 },
 "nbformat": 4,
 "nbformat_minor": 2
}
