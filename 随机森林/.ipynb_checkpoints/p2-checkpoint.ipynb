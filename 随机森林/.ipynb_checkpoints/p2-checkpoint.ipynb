{
 "cells": [
  {
   "cell_type": "code",
   "execution_count": 3,
   "metadata": {
    "collapsed": true
   },
   "outputs": [],
   "source": [
    "import numpy as np\n",
    "import pandas as pd\n",
    "import matplotlib.pyplot as plt\n",
    "from scipy.optimize import minimize\n",
    "from sklearn.preprocessing import PolynomialFeatures\n",
    "import randomforests as rf\n",
    "import sklearn.ensemble as ske\n",
    "import sklearn.metrics as skm\n",
    "%matplotlib inline"
   ]
  },
  {
   "cell_type": "code",
   "execution_count": 10,
   "metadata": {},
   "outputs": [
    {
     "data": {
      "text/plain": [
       "<matplotlib.image.AxesImage at 0x9d700b0>"
      ]
     },
     "execution_count": 10,
     "metadata": {},
     "output_type": "execute_result"
    },
    {
     "data": {
      "image/png": "[encoded data removed]",
      "text/plain": [
       "<matplotlib.figure.Figure at 0x7abf230>"
      ]
     },
     "metadata": {},
     "output_type": "display_data"
    }
   ],
   "source": [
    "datatrain = pd.read_csv(\"samtrain.csv\")\n",
    "dataval = pd.read_csv(\"samval.csv\")\n",
    "\n",
    "map_dict = {'laying':1, 'sitting':2,'standing':3, 'walk':4, 'walkup':5, 'walkdown':6}\n",
    "datatrain  = rf.remap_col(datatrain, 'activity', map_dict)\n",
    "dataval = rf.remap_col(dataval, 'activity', map_dict)\n",
    "\n",
    "rfc = ske.RandomForestClassifier(n_estimators=500, oob_score=True)\n",
    "X = datatrain[datatrain.columns[1:-2]]\n",
    "y = datatrain['activity']\n",
    "\n",
    "model = rfc.fit(X, y)\n",
    "              \n",
    "acc = model.oob_score_\n",
    "              \n",
    "fi = enumerate(model.feature_importances_)\n",
    "col = datatrain.columns[1:-2]\n",
    "[(value, col[i]) for i, value in fi if  value > 0.04]\n",
    "              \n",
    "X_V = dataval[dataval.columns[1:-2]]\n",
    "y_v = dataval['activity']\n",
    "\n",
    "p_v = model.predict(X_V)\n",
    "cm = skm.confusion_matrix(y_v, p_v)    \n",
    "\n",
    "ax = plt.gca()\n",
    "ax.matshow(cm)\n",
    "              "
   ]
  },
  {
   "cell_type": "code",
   "execution_count": 17,
   "metadata": {},
   "outputs": [
    {
     "data": {
      "text/plain": [
       "<matplotlib.image.AxesImage at 0x9db8b30>"
      ]
     },
     "execution_count": 17,
     "metadata": {},
     "output_type": "execute_result"
    },
    {
     "data": {
      "image/png": "[encoded data removed]",
      "text/plain": [
       "<matplotlib.figure.Figure at 0x9f2d210>"
      ]
     },
     "metadata": {},
     "output_type": "display_data"
    }
   ],
   "source": [
    "datatrain = pd.read_csv(\"samtrain.csv\")\n",
    "dataval = pd.read_csv(\"samval.csv\")\n",
    "\n",
    "map_dict = {'laying':1, 'sitting':2,'standing':3, 'walk':4, 'walkup':5, 'walkdown':6}\n",
    "datatrain = rf.remap_col(datatrain, 'activity', map_dict)\n",
    "dataval = rf.remap_col(dataval, 'activity', map_dict)\n",
    "\n",
    "X = datatrain[datatrain.columns[1:-2]]\n",
    "y = datatrain['activity']\n",
    "\n",
    "rfc = ske.RandomForestClassifier(n_estimators=500, oob_score=True)\n",
    "X = datatrain[datatrain.columns[1:-2]]\n",
    "y = datatrain['activity']\n",
    "\n",
    "model = rfc.fit(X, y)\n",
    "acc = model.oob_score\n",
    "\n",
    "X_V = dataval[dataval.columns[1:-2]]\n",
    "y_v = dataval['activity']\n",
    "p_v = model.predict(X_V)\n",
    "acc = 100 * sum(p_v == y_v) / y_v.size\n",
    "cm = skm.confusion_matrix(p_v, y_v)\n",
    "\n",
    "ax = plt.gca()\n",
    "ax.matshow(cm)\n",
    "\n"
   ]
  },
  {
   "cell_type": "code",
   "execution_count": 25,
   "metadata": {},
   "outputs": [
    {
     "name": "stdout",
     "output_type": "stream",
     "text": [
      "0.980988593156\n",
      "83.0178759201\n"
     ]
    },
    {
     "data": {
      "text/plain": [
       "<matplotlib.image.AxesImage at 0xb2ec850>"
      ]
     },
     "execution_count": 25,
     "metadata": {},
     "output_type": "execute_result"
    },
    {
     "data": {
      "image/png": "[encoded data removed]",
      "text/plain": [
       "<matplotlib.figure.Figure at 0xb00cc30>"
      ]
     },
     "metadata": {},
     "output_type": "display_data"
    }
   ],
   "source": [
    "datatrain = pd.read_csv(\"samtrain.csv\")\n",
    "map_dict = {'laying':1, 'sitting':2,'standing':3, 'walk':4, 'walkup':5, 'walkdown':6}\n",
    "datatrain = rf.remap_col(datatrain, 'activity', map_dict)\n",
    "\n",
    "X = datatrain[datatrain.columns[1:-2]]\n",
    "y = datatrain['activity']\n",
    "\n",
    "rfc = ske.RandomForestClassifier(n_estimators=500, oob_score=True)\n",
    "model = rfc.fit(X, y)\n",
    "acc = model.oob_score_\n",
    "print acc\n",
    "\n",
    "fi = enumerate(model.feature_importances_)\n",
    "col = datatrain.columns[1:-2]\n",
    "[(value, col[i]) for i,value in fi if value > 0.04]\n",
    "\n",
    "dataval = pd.read_csv(\"samval.csv\")\n",
    "dataval = rf.remap_col(dataval, 'activity', map_dict)\n",
    "X_V = dataval[dataval.columns[1:-2]]\n",
    "y_v = dataval['activity']\n",
    "\n",
    "p_v = model.predict(X_V)\n",
    "acc = 100.0 * sum(p_v == y_v) / y_v.size\n",
    "print acc\n",
    "cm = skm.confusion_matrix(p_v, y_v)\n",
    "ax = plt.gca()\n",
    "ax.matshow(cm)\n"
   ]
  },
  {
   "cell_type": "code",
   "execution_count": 30,
   "metadata": {},
   "outputs": [
    {
     "data": {
      "text/plain": [
       "<matplotlib.image.AxesImage at 0xe7aa6f0>"
      ]
     },
     "execution_count": 30,
     "metadata": {},
     "output_type": "execute_result"
    },
    {
     "data": {
      "image/png": "[encoded data removed]",
      "text/plain": [
       "<matplotlib.figure.Figure at 0xac20590>"
      ]
     },
     "metadata": {},
     "output_type": "display_data"
    }
   ],
   "source": [
    "datatrain = pd.read_csv(\"samtrain.csv\")\n",
    "map_dict = {'laying':1, 'sitting':2,'standing':3, 'walk':4, 'walkup':5, 'walkdown':6}\n",
    "datatrain = rf.remap_col(datatrain, 'activity', map_dict)\n",
    "X = datatrain[datatrain.columns[1:-2]]\n",
    "y = datatrain['activity']\n",
    "\n",
    "rfc = ske.RandomForestClassifier(n_estimators=500, oob_score=True)\n",
    "model = rfc.fit(X, y)\n",
    "acc = model.oob_score_\n",
    "fi = enumerate(model.feature_importances_)\n",
    "cols = datatrain.columns\n",
    "[(value, cols[i]) for i,value in fi if value > 0.04]\n",
    "\n",
    "\n",
    "dataval = pd.read_csv(\"samval.csv\")\n",
    "dataval = rf.remap_col(dataval, 'activity', map_dict)\n",
    "X_V = dataval[dataval.columns[1:-2]]\n",
    "y_v = dataval['activity']\n",
    "p_v = model.predict(X_V)\n",
    "acc = 100.0 * sum(y_v == p_v) / y_v.size\n",
    "cm = skm.confusion_matrix(p_v, y_v)\n",
    "ax = plt.gca()\n",
    "ax.matshow(cm)\n"
   ]
  },
  {
   "cell_type": "code",
   "execution_count": 35,
   "metadata": {},
   "outputs": [
    {
     "name": "stdout",
     "output_type": "stream",
     "text": [
      "83.7013669821\n"
     ]
    },
    {
     "data": {
      "text/plain": [
       "<matplotlib.image.AxesImage at 0xe7d2d30>"
      ]
     },
     "execution_count": 35,
     "metadata": {},
     "output_type": "execute_result"
    },
    {
     "data": {
      "image/png": "[encoded data removed]",
      "text/plain": [
       "<matplotlib.figure.Figure at 0xe7c7110>"
      ]
     },
     "metadata": {},
     "output_type": "display_data"
    }
   ],
   "source": [
    "datatrain = pd.read_csv(\"samtrain.csv\")\n",
    "map_dict = {'laying':1, 'sitting':2,'standing':3, 'walk':4, 'walkup':5, 'walkdown':6}\n",
    "datatrain = rf.remap_col(datatrain, 'activity', map_dict)\n",
    "X = datatrain[datatrain.columns[1:-2]]\n",
    "y = datatrain['activity']\n",
    "\n",
    "rfc = ske.RandomForestClassifier(n_estimators=500, oob_score=True)\n",
    "model = rfc.fit(X, y)\n",
    "acc = model.oob_score_\n",
    "fi = enumerate(model.feature_importances_)\n",
    "col = datatrain.columns\n",
    "[(value, col[i]) for i, value in fi if value > 0.04] \n",
    "\n",
    "dataval = pd.read_csv(\"samval.csv\")\n",
    "dataval = rf.remap_col(dataval, 'activity', map_dict)\n",
    "X_V = dataval[dataval.columns[1:-2]]\n",
    "y_v = dataval['activity']\n",
    "p_v = model.predict(X_V)\n",
    "acc = 100.0 * sum(p_v == y_v) / y_v.size\n",
    "print acc\n",
    "\n",
    "cm = skm.confusion_matrix(y_v, p_v)\n",
    "ax = plt.gca()\n",
    "ax.matshow(cm)\n",
    "\n",
    "\n",
    "import numpy as np\n",
    "import pandas as pd\n",
    "import matplotlib.pyplot as plt\n",
    "from scipy.optimize import minimize\n",
    "from sklearn.preprocessing import PolynomialFeatures\n",
    "import randomforests as rf\n",
    "import sklearn.ensemble as ske\n",
    "import sklearn.metrics as skm\n",
    "%matplotlib inline"
   ]
  },
  {
   "cell_type": "code",
   "execution_count": 7,
   "metadata": {},
   "outputs": [],
   "source": [
    "import numpy as np\n",
    "import pandas as pd\n",
    "import matplotlib.pyplot as plt\n",
    "from scipy.optimize import minimize\n",
    "from sklearn.preprocessing import PolynomialFeatures\n",
    "\n",
    "import randomforests as rf\n",
    "import sklearn.ensemble as ske\n",
    "import sklearn.metrics as skm\n",
    "\n",
    "%matplotlib inline"
   ]
  },
  {
   "cell_type": "code",
   "execution_count": 20,
   "metadata": {},
   "outputs": [
    {
     "name": "stdout",
     "output_type": "stream",
     "text": [
      "84.3322818086\n"
     ]
    },
    {
     "data": {
      "text/plain": [
       "<matplotlib.image.AxesImage at 0x98ff7d0>"
      ]
     },
     "execution_count": 20,
     "metadata": {},
     "output_type": "execute_result"
    },
    {
     "data": {
      "image/png": "[encoded data removed]",
      "text/plain": [
       "<matplotlib.figure.Figure at 0x7c18d70>"
      ]
     },
     "metadata": {},
     "output_type": "display_data"
    }
   ],
   "source": [
    "datatrain = pd.read_csv(\"samtrain.csv\")\n",
    "map_dict = {'laying':1, 'sitting':2,'standing':3, 'walk':4, 'walkup':5, 'walkdown':6}\n",
    "datatrain = rf.remap_col(datatrain, 'activity', map_dict)\n",
    "\n",
    "X = datatrain[datatrain.columns[1:-2]]\n",
    "y = datatrain['activity']\n",
    "\n",
    "rfc = ske.RandomForestClassifier(n_estimators=500, oob_score=True)\n",
    "model = rfc.fit(X, y)\n",
    "model.oob_score_\n",
    "\n",
    "fi = enumerate(model.feature_importances_)\n",
    "cols = datatrain.columns\n",
    "[(value, cols[i]) for i, value in fi if value > 0.04]\n",
    "\n",
    "dataval = pd.read_csv(\"samval.csv\")\n",
    "dataval = rf.remap_col(dataval, 'activity', map_dict)\n",
    "\n",
    "X_T = dataval[dataval.columns[1:-2]]\n",
    "y_t = dataval['activity']\n",
    "p_t = model.predict(X_T)\n",
    "acc = 100.0 * sum( p_t == y_t) / y_t.size\n",
    "print acc\n",
    "\n",
    "cm = skm.confusion_matrix(p_t, y_t)\n",
    "plt.gca().matshow(cm)"
   ]
  },
  {
   "cell_type": "code",
   "execution_count": 24,
   "metadata": {},
   "outputs": [
    {
     "name": "stdout",
     "output_type": "stream",
     "text": [
      "83.8590956887\n"
     ]
    },
    {
     "data": {
      "text/plain": [
       "<matplotlib.image.AxesImage at 0xb1e5cf0>"
      ]
     },
     "execution_count": 24,
     "metadata": {},
     "output_type": "execute_result"
    },
    {
     "data": {
      "image/png": "[encoded data removed]",
      "text/plain": [
       "<matplotlib.figure.Figure at 0xae2ed50>"
      ]
     },
     "metadata": {},
     "output_type": "display_data"
    }
   ],
   "source": [
    "datatrain = pd.read_csv(\"samtrain.csv\")\n",
    "datatrain = rf.remap_col(datatrain, 'activity', map_dict)\n",
    "X = datatrain[datatrain.columns[1:-2]]\n",
    "y = datatrain['activity']\n",
    "rfc = ske.RandomForestClassifier(n_estimators=500, oob_score=True)\n",
    "model = rfc.fit(X, y)\n",
    "acc = model.oob_score_\n",
    "fi = enumerate(model.feature_importances_)\n",
    "cols = datatrain.columns\n",
    "[(value, cols[i]) for i, value in fi if value > 0.04]\n",
    "\n",
    "dataval = pd.read_csv(\"samval.csv\")\n",
    "dataval = rf.remap_col(dataval, 'activity', map_dict)\n",
    "X_T = dataval[dataval.columns[1:-2]]\n",
    "y_t = dataval['activity']\n",
    "p_t = model.predict(X_T)\n",
    "acc = 100.0 * sum(p_t == y_t) / y_t.size\n",
    "print acc\n",
    "\n",
    "cm = skm.confusion_matrix(p_t, y_t)\n",
    "plt.gca().matshow(cm)\n"
   ]
  },
  {
   "cell_type": "code",
   "execution_count": null,
   "metadata": {
    "collapsed": true
   },
   "outputs": [],
   "source": []
  }
 ],
 "metadata": {
  "kernelspec": {
   "display_name": "Python 2",
   "language": "python",
   "name": "python2"
  },
  "language_info": {
   "codemirror_mode": {
    "name": "ipython",
    "version": 2
   },
   "file_extension": ".py",
   "mimetype": "text/x-python",
   "name": "python",
   "nbconvert_exporter": "python",
   "pygments_lexer": "ipython2",
   "version": "2.7.13"
  }
 },
 "nbformat": 4,
 "nbformat_minor": 2
}
