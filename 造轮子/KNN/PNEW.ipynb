{
 "cells": [
  {
   "cell_type": "code",
   "execution_count": 1,
   "metadata": {
    "collapsed": true
   },
   "outputs": [],
   "source": [
    "from numpy import *\n",
    "import operator\n",
    "from os import listdir"
   ]
  },
  {
   "cell_type": "code",
   "execution_count": 142,
   "metadata": {},
   "outputs": [],
   "source": [
    "def KNN(data, X, y, k):\n",
    "    m = data.shape[0]\n",
    "    y_bar = []\n",
    "    for i in xrange(m):\n",
    "        E = sum(power((data[i,:] - X), 2), axis=1)\n",
    "        index = E.argsort()\n",
    "        dictt = {}\n",
    "        for j in xrange(k):\n",
    "            label = y[index[j]]\n",
    "            dictt[label] = dictt.get(label, 0) + 1\n",
    "        result = sorted(dictt.iteritems(), key=operator.itemgetter(1), reverse=True)\n",
    "        y_bar.append(result[0][0])\n",
    "    return array(y_bar)\n",
    "\n",
    "def f2m(name):\n",
    "    f = open(name)\n",
    "    content = f.readlines()\n",
    "    m = len(content)\n",
    "    X = zeros((m,3))\n",
    "    y = []\n",
    "    content = enumerate(content)\n",
    "    for i, value in content:\n",
    "        line = value.strip().split('\\t')\n",
    "        X[i,:] = line[:3]\n",
    "        y.append(int(line[-1]))\n",
    "    y = array(y)\n",
    "    return X, y\n",
    "\n",
    "def i2v(name):\n",
    "    x = []\n",
    "    f = open(name)\n",
    "    for i in xrange(32):\n",
    "        line = f.readline()\n",
    "        for j in xrange(32):\n",
    "            x.append(int(line[j]))\n",
    "    return x\n",
    "\n",
    "def formData(name):\n",
    "    FL = listdir(name)\n",
    "    m = len(FL)\n",
    "    X = zeros((m, 1024))\n",
    "    y = []\n",
    "    for i in xrange(m):\n",
    "        fname = FL[i]\n",
    "        label = fname.split('.')[0].split('_')[0]\n",
    "        y.append(label)\n",
    "        X[i,:] = i2v('{}/{}'.format(name, fname))\n",
    "    y = array(y)\n",
    "    return X, y\n",
    "\n",
    "def Norm(data):\n",
    "    mi = data.min(0)\n",
    "    ma = data.max(0)\n",
    "    X = (data - mi) / (ma - mi)\n",
    "    return X\n",
    "\n",
    "def datingTest(name):\n",
    "    X, y = f2m(name)\n",
    "    X = Norm(X)\n",
    "    m = X.shape[0]\n",
    "    y_bar = []\n",
    "    for i in xrange(m):\n",
    "        x = X[i,:]\n",
    "        result = KNN(x, X, y, 30)\n",
    "        y_bar.append(result)\n",
    "    y_bar = array(y_bar)\n",
    "    print \"Acc {}%\".format(100.0 * sum(y_bar == y) / y.size)\n",
    "\n",
    "def handwrittingTest(name1, name2):\n",
    "    X1, y1 = formData(name1)\n",
    "    X2, y2 = formData(name2)\n",
    "    y_bar = KNN(X2, X1, y1, 3)\n",
    "    acc = 100.0 * sum(y_bar == y2) / y2.size\n",
    "    print \"Acc is {}%\".format(acc)"
   ]
  },
  {
   "cell_type": "code",
   "execution_count": 143,
   "metadata": {},
   "outputs": [
    {
     "name": "stdout",
     "output_type": "stream",
     "text": [
      "Acc is 98.8372093023%\n"
     ]
    }
   ],
   "source": [
    "handwrittingTest('C:/Users/Administrator/Desktop/machinelearninginaction/Ch02/digits/trainingDigits',\\\n",
    "                 'C:/Users/Administrator/Desktop/machinelearninginaction/Ch02/digits/testDigits')"
   ]
  },
  {
   "cell_type": "code",
   "execution_count": null,
   "metadata": {
    "collapsed": true
   },
   "outputs": [],
   "source": []
  }
 ],
 "metadata": {
  "kernelspec": {
   "display_name": "Python 2",
   "language": "python",
   "name": "python2"
  },
  "language_info": {
   "codemirror_mode": {
    "name": "ipython",
    "version": 2
   },
   "file_extension": ".py",
   "mimetype": "text/x-python",
   "name": "python",
   "nbconvert_exporter": "python",
   "pygments_lexer": "ipython2",
   "version": "2.7.13"
  }
 },
 "nbformat": 4,
 "nbformat_minor": 2
}
