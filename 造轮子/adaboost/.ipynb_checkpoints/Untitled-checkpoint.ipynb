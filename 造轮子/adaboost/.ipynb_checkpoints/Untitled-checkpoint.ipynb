{
 "cells": [
  {
   "cell_type": "code",
   "execution_count": 294,
   "metadata": {},
   "outputs": [],
   "source": [
    "from numpy import *\n",
    "\n",
    "def loadData(name):\n",
    "    data= []\n",
    "    y = []\n",
    "    f = open(name)\n",
    "    for x in f.readlines():\n",
    "        x = x.strip().split('\\t')\n",
    "        data.append(map(float, x[:-1]))\n",
    "        y.append(float(x[-1]))\n",
    "    return array(data), array(y)\n",
    "\n",
    "def sc(x, th, op):\n",
    "    result = ones(x.shape[0])\n",
    "    if op == 'lt':\n",
    "        result[x <= th] = -1.0\n",
    "    else:\n",
    "        result[x > th] = -1.0\n",
    "    return result\n",
    "\n",
    "def bs(X, y, D):\n",
    "    m, n = X.shape\n",
    "    numThresh = 10\n",
    "    bestStump = {}\n",
    "    best_y = zeros(X.shape[0])\n",
    "    minErr = inf\n",
    "    for k, x in enumerate(X.T):\n",
    "        x_min, x_max = x.min() - 1 , x.max() + 1\n",
    "        thresh = linspace(x_min, x_max, numThresh)\n",
    "        for th in thresh:\n",
    "            for op in ['lt', 'gt']:\n",
    "                y_bar = sc(x, th, op)\n",
    "                yErr = ones(m)\n",
    "                yErr[ y_bar == y ] = 0\n",
    "                DErr = D.dot(yErr)\n",
    "                if DErr < minErr:\n",
    "                    bestStump['dim'] = k\n",
    "                    bestStump['thresh'] = th\n",
    "                    bestStump['operator'] = op\n",
    "                    best_y = y_bar\n",
    "                    minErr = DErr               \n",
    "    return bestStump, best_y, minErr\n",
    "\n",
    "def train(X, y, loops):\n",
    "    weakClassArr = []\n",
    "    m = X.shape[0]\n",
    "    D = ones(m) / m\n",
    "    agg = zeros(m)\n",
    "    for k in xrange(loops):\n",
    "        bestStump, y_bar, error = bs(X, y, D)\n",
    "        alpha = float(0.5 * log((1 - error) / max(error, 1e-16)))\n",
    "        bestStump['alpha'] = alpha\n",
    "        weakClassArr.append(bestStump)\n",
    "        ea = -1.0 * alpha * multiply(y, y_bar)\n",
    "        D = multiply(D, exp(ea)) / sum(D)\n",
    "        agg += alpha * y_bar\n",
    "        aggErr = 1.0 * sum( sign(agg) != y ) / y.size\n",
    "        print aggErr\n",
    "        if aggErr == 0.0 :\n",
    "            break\n",
    "    return weakClassArr\n",
    "\n",
    "def predict(X, classArr):\n",
    "    m = X.shape[0]\n",
    "    aggClassEst = zeros(m)\n",
    "    for c in classArr:\n",
    "        y_bar = sc(X, c['dim'], c['thresh'], c['operator'])\n",
    "        aggClassEst += c['alpha'] * y_bar\n",
    "    print aggClassEst\n",
    "    return sign(aggClassEst)"
   ]
  },
  {
   "cell_type": "code",
   "execution_count": 295,
   "metadata": {
    "collapsed": true
   },
   "outputs": [],
   "source": [
    "def plotROC(predStrengths, classLabels):\n",
    "    import matplotlib.pyplot as plt\n",
    "    cur = (1.0,1.0) #cursor\n",
    "    ySum = 0.0 #variable to calculate AUC\n",
    "    numPosClas = sum(array(classLabels)==1.0)\n",
    "    yStep = 1/float(numPosClas); xStep = 1/float(len(classLabels)-numPosClas)\n",
    "    sortedIndicies = predStrengths.argsort()#get sorted index, it's reverse\n",
    "    fig = plt.figure()\n",
    "    fig.clf()\n",
    "    ax = plt.subplot(111)\n",
    "    #loop through all the values, drawing a line segment at each point\n",
    "    for index in sortedIndicies.tolist()[0]:\n",
    "        if classLabels[index] == 1.0:\n",
    "            delX = 0; delY = yStep;\n",
    "        else:\n",
    "            delX = xStep; delY = 0;\n",
    "            ySum += cur[1]\n",
    "        #draw line from cur to (cur[0]-delX,cur[1]-delY)\n",
    "        ax.plot([cur[0],cur[0]-delX],[cur[1],cur[1]-delY], c='b')\n",
    "        cur = (cur[0]-delX,cur[1]-delY)\n",
    "    ax.plot([0,1],[0,1],'b--')\n",
    "    plt.xlabel('False positive rate'); plt.ylabel('True positive rate')\n",
    "    plt.title('ROC curve for AdaBoost horse colic detection system')\n",
    "    ax.axis([0,1,0,1])\n",
    "    plt.show()\n",
    "    print \"the Area Under the Curve is: \",ySum*xStep"
   ]
  },
  {
   "cell_type": "code",
   "execution_count": 296,
   "metadata": {},
   "outputs": [
    {
     "name": "stdout",
     "output_type": "stream",
     "text": [
      "0.284280936455\n",
      "0.284280936455\n",
      "0.224080267559\n",
      "0.224080267559\n",
      "0.234113712375\n",
      "0.234113712375\n",
      "0.227424749164\n",
      "0.23745819398\n",
      "0.234113712375\n",
      "0.220735785953\n"
     ]
    },
    {
     "data": {
      "text/plain": [
       "[{'alpha': 0.46166237926576786,\n",
       "  'dim': 17,\n",
       "  'operator': 'gt',\n",
       "  'thresh': 50.333333333333329},\n",
       " {'alpha': 0.41434684510520126,\n",
       "  'dim': 9,\n",
       "  'operator': 'gt',\n",
       "  'thresh': 3.666666666666667},\n",
       " {'alpha': 0.3075279464574483,\n",
       "  'dim': 18,\n",
       "  'operator': 'lt',\n",
       "  'thresh': 49.555555555555557},\n",
       " {'alpha': 0.2292189670356418, 'dim': 3, 'operator': 'gt', 'thresh': 61.0},\n",
       " {'alpha': 0.18116903387556668,\n",
       "  'dim': 11,\n",
       "  'operator': 'lt',\n",
       "  'thresh': 0.33333333333333326},\n",
       " {'alpha': 0.1699585184196405,\n",
       "  'dim': 4,\n",
       "  'operator': 'lt',\n",
       "  'thresh': 53.444444444444443},\n",
       " {'alpha': 0.1697802921220716,\n",
       "  'dim': 5,\n",
       "  'operator': 'gt',\n",
       "  'thresh': 2.333333333333333},\n",
       " {'alpha': 0.17128699870707895,\n",
       "  'dim': 5,\n",
       "  'operator': 'lt',\n",
       "  'thresh': 0.33333333333333326},\n",
       " {'alpha': 0.13228770578244511,\n",
       "  'dim': 9,\n",
       "  'operator': 'lt',\n",
       "  'thresh': 4.4444444444444446},\n",
       " {'alpha': 0.16845030993198298,\n",
       "  'dim': 11,\n",
       "  'operator': 'gt',\n",
       "  'thresh': 2.333333333333333}]"
      ]
     },
     "execution_count": 296,
     "metadata": {},
     "output_type": "execute_result"
    }
   ],
   "source": [
    "X, y = loadData('horseColicTraining2.txt')\n",
    "train(X, y, 10)"
   ]
  },
  {
   "cell_type": "code",
   "execution_count": null,
   "metadata": {
    "collapsed": true
   },
   "outputs": [],
   "source": []
  },
  {
   "cell_type": "code",
   "execution_count": null,
   "metadata": {
    "collapsed": true
   },
   "outputs": [],
   "source": []
  }
 ],
 "metadata": {
  "kernelspec": {
   "display_name": "Python 2",
   "language": "python",
   "name": "python2"
  },
  "language_info": {
   "codemirror_mode": {
    "name": "ipython",
    "version": 2
   },
   "file_extension": ".py",
   "mimetype": "text/x-python",
   "name": "python",
   "nbconvert_exporter": "python",
   "pygments_lexer": "ipython2",
   "version": "2.7.13"
  }
 },
 "nbformat": 4,
 "nbformat_minor": 2
}
