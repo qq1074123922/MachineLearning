{
 "cells": [
  {
   "cell_type": "code",
   "execution_count": 477,
   "metadata": {
    "collapsed": true
   },
   "outputs": [],
   "source": [
    "from numpy import *\n",
    "from math import log\n",
    "import operator\n",
    "import pickle\n",
    "\n",
    "\n",
    "def SE(data):\n",
    "    m = len(data)\n",
    "    dictt = {}\n",
    "    for x in data:\n",
    "        label = x[-1]\n",
    "        dictt[label] = dictt.get(label, 0) + 1\n",
    "    se = 0.0\n",
    "    print dictt\n",
    "    for key in dictt:\n",
    "        p = float(dictt[key]) / m\n",
    "        se -= p * log(p, 2)\n",
    "    return se\n",
    "\n",
    "def createData():\n",
    "    data = ([[1, 1,'Y'],\n",
    "             [1, 1,'Y'],\n",
    "             [1, 0,'N'],\n",
    "             [0, 1,'N'],\n",
    "             [0, 1,'N']])\n",
    "    labels = ['NS', 'FS']\n",
    "    return data, labels\n",
    "\n",
    "def splitdata(data, index, value):\n",
    "    result = []\n",
    "    for x in data:\n",
    "        if x[index] == value:\n",
    "            temp = x[:index]\n",
    "            temp.extend(x[index+1:])\n",
    "            result.append(temp)\n",
    "    return result\n",
    "\n",
    "def BF(data):\n",
    "    n = len(data[0]) - 1\n",
    "    be = SE(data)\n",
    "    big = 0.0\n",
    "    bf = -1\n",
    "    for i in xrange(n):\n",
    "        fl = [x[i] for x in data]\n",
    "        uv = set(fl)\n",
    "        ne = 0.0\n",
    "        for value in uv:\n",
    "            sd = splitdata(data, i, value)\n",
    "            p = len(sd) / float(len(data))\n",
    "            ne += p * SE(sd)\n",
    "        ig = be - ne\n",
    "        if ig > big:\n",
    "            big = ig\n",
    "            bf = i\n",
    "    return bf\n",
    "\n",
    "def DT(data, labels):\n",
    "    y = [x[-1] for x in data]\n",
    "    if len(data[0]) == 1:\n",
    "        return maxl(y)\n",
    "    if y.count(y[0]) == len(y):\n",
    "        return y[0]\n",
    "    bf = BF(data)\n",
    "    bl = labels[bf]\n",
    "    del(labels[bf])\n",
    "    tree = {bl:{}}\n",
    "    \n",
    "    fl = [x[bf] for x in data]\n",
    "    uv = set(fl)\n",
    "    for value in uv:\n",
    "        tree[bl][value] = DT(splitdata(data, bf, value), labels[:])\n",
    "        \n",
    "    return tree\n",
    "\n",
    "def maxl(y):\n",
    "    dictt = {}\n",
    "    for value in y:\n",
    "        dictt[value] = dictt.get(value, 0) + 1\n",
    "    result = sorted(dictt.iteritems(), key= operator.itemgetter(1), reverse=True)\n",
    "    return result[0][0]\n",
    "\n",
    "def classify(tree, labels, x):\n",
    "    #取得根节点\n",
    "    root = tree.keys()[0]\n",
    "    #取得根节点在x中对应的值\n",
    "    value = x[labels.index(root)]\n",
    "    #取得根节点子树（可能有若干个）\n",
    "    subtree = tree[root]\n",
    "    #判断每一个分支\n",
    "    for key in subtree.keys():\n",
    "        if value == key:\n",
    "            if isinstance(subtree[key], dict):\n",
    "                label = classify(subtree[key], labels, x)\n",
    "            else:\n",
    "                label = subtree[key]         \n",
    "    return label\n",
    "\n",
    "def storeTree(inputTree,filename):\n",
    "    fw = open(filename,'w')\n",
    "    pickle.dump(inputTree,fw)\n",
    "    fw.close()\n",
    "    \n",
    "def grabTree(filename):\n",
    "    import pickle\n",
    "    fr = open(filename)\n",
    "    return pickle.load(fr)  "
   ]
  },
  {
   "cell_type": "code",
   "execution_count": 478,
   "metadata": {},
   "outputs": [
    {
     "name": "stdout",
     "output_type": "stream",
     "text": [
      "{'Y': 2, 'N': 3}\n",
      "{'N': 2}\n",
      "{'Y': 2, 'N': 1}\n",
      "{'N': 1}\n",
      "{'Y': 2, 'N': 2}\n",
      "{'Y': 2, 'N': 1}\n",
      "{'N': 1}\n",
      "{'Y': 2}\n"
     ]
    },
    {
     "data": {
      "image/png": "[encoded data removed]",
      "text/plain": [
       "<matplotlib.figure.Figure at 0x85abe10>"
      ]
     },
     "metadata": {},
     "output_type": "display_data"
    },
    {
     "name": "stdout",
     "output_type": "stream",
     "text": [
      "{'NS': {0: 'N', 1: {'FS': {0: 'N', 1: 'Y'}}}}\n",
      "['NS']\n",
      "['FS']\n"
     ]
    }
   ],
   "source": [
    "data, label = createData()\n",
    "tree = DT(data, label)\n",
    "createPlot(tree)\n",
    "print tree\n",
    "print tree.keys()\n",
    "print label"
   ]
  },
  {
   "cell_type": "code",
   "execution_count": 458,
   "metadata": {},
   "outputs": [
    {
     "name": "stdout",
     "output_type": "stream",
     "text": [
      "             0      1    2        3          4\n",
      "0        young  myope   no  reduced  no lenses\n",
      "1        young  myope   no   normal       soft\n",
      "2        young  myope  yes  reduced  no lenses\n",
      "3        young  myope  yes   normal       hard\n",
      "4        young  hyper   no  reduced  no lenses\n",
      "5        young  hyper   no   normal       soft\n",
      "6        young  hyper  yes  reduced  no lenses\n",
      "7        young  hyper  yes   normal       hard\n",
      "8          pre  myope   no  reduced  no lenses\n",
      "9          pre  myope   no   normal       soft\n",
      "10         pre  myope  yes  reduced  no lenses\n",
      "11         pre  myope  yes   normal       hard\n",
      "12         pre  hyper   no  reduced  no lenses\n",
      "13         pre  hyper   no   normal       soft\n",
      "14         pre  hyper  yes  reduced  no lenses\n",
      "15         pre  hyper  yes   normal  no lenses\n",
      "16  presbyopic  myope   no  reduced  no lenses\n",
      "17  presbyopic  myope   no   normal  no lenses\n",
      "18  presbyopic  myope  yes  reduced  no lenses\n",
      "19  presbyopic  myope  yes   normal       hard\n",
      "20  presbyopic  hyper   no  reduced  no lenses\n",
      "21  presbyopic  hyper   no   normal       soft\n",
      "22  presbyopic  hyper  yes  reduced  no lenses\n",
      "23  presbyopic  hyper  yes   normal  no lenses\n"
     ]
    }
   ],
   "source": [
    "import pandas as pd\n",
    "fr = open('lenses.txt')\n",
    "lenses = [inst.strip().split('\\t') for inst in fr.readlines()]\n",
    "X = pd.DataFrame(lenses)\n",
    "print X\n",
    "label = ['A', 'B', 'C', 'D']"
   ]
  },
  {
   "cell_type": "code",
   "execution_count": 445,
   "metadata": {},
   "outputs": [
    {
     "name": "stdout",
     "output_type": "stream",
     "text": [
      "{'no lenses': 15, 'hard': 4, 'soft': 5}\n",
      "{'no lenses': 5, 'hard': 1, 'soft': 2}\n",
      "{'no lenses': 6, 'hard': 1, 'soft': 1}\n",
      "{'no lenses': 4, 'hard': 2, 'soft': 2}\n",
      "{'no lenses': 8, 'hard': 1, 'soft': 3}\n",
      "{'no lenses': 7, 'hard': 3, 'soft': 2}\n",
      "{'no lenses': 8, 'hard': 4}\n",
      "{'no lenses': 7, 'soft': 5}\n",
      "{'no lenses': 12}\n",
      "{'no lenses': 3, 'hard': 4, 'soft': 5}\n",
      "{'no lenses': 3, 'hard': 4, 'soft': 5}\n",
      "{'no lenses': 1, 'hard': 1, 'soft': 2}\n",
      "{'no lenses': 2, 'hard': 1, 'soft': 1}\n",
      "{'hard': 2, 'soft': 2}\n",
      "{'no lenses': 2, 'hard': 1, 'soft': 3}\n",
      "{'no lenses': 1, 'hard': 3, 'soft': 2}\n",
      "{'no lenses': 2, 'hard': 4}\n",
      "{'no lenses': 1, 'soft': 5}\n",
      "{'no lenses': 2, 'hard': 4}\n",
      "{'no lenses': 1, 'hard': 1}\n",
      "{'no lenses': 1, 'hard': 1}\n",
      "{'hard': 2}\n",
      "{'no lenses': 2, 'hard': 1}\n",
      "{'hard': 3}\n",
      "{'no lenses': 2, 'hard': 1}\n",
      "{'no lenses': 1}\n",
      "{'no lenses': 1}\n",
      "{'hard': 1}\n",
      "{'no lenses': 1, 'soft': 5}\n",
      "{'soft': 2}\n",
      "{'no lenses': 1, 'soft': 1}\n",
      "{'soft': 2}\n",
      "{'soft': 3}\n",
      "{'no lenses': 1, 'soft': 2}\n",
      "{'no lenses': 1, 'soft': 1}\n",
      "{'soft': 1}\n",
      "{'no lenses': 1}\n"
     ]
    },
    {
     "data": {
      "image/png": "[encoded data removed]",
      "text/plain": [
       "<matplotlib.figure.Figure at 0x84894b0>"
      ]
     },
     "metadata": {},
     "output_type": "display_data"
    }
   ],
   "source": [
    "lensesTree = DT(lenses, label)\n",
    "createPlot(lensesTree)"
   ]
  },
  {
   "cell_type": "code",
   "execution_count": 461,
   "metadata": {
    "collapsed": true
   },
   "outputs": [],
   "source": [
    "from  math  import log"
   ]
  },
  {
   "cell_type": "code",
   "execution_count": 462,
   "metadata": {},
   "outputs": [
    {
     "data": {
      "text/plain": [
       "2.321928094887362"
      ]
     },
     "execution_count": 462,
     "metadata": {},
     "output_type": "execute_result"
    }
   ],
   "source": [
    "log(5,2)"
   ]
  },
  {
   "cell_type": "code",
   "execution_count": null,
   "metadata": {
    "collapsed": true
   },
   "outputs": [],
   "source": []
  }
 ],
 "metadata": {
  "kernelspec": {
   "display_name": "Python 2",
   "language": "python",
   "name": "python2"
  },
  "language_info": {
   "codemirror_mode": {
    "name": "ipython",
    "version": 2
   },
   "file_extension": ".py",
   "mimetype": "text/x-python",
   "name": "python",
   "nbconvert_exporter": "python",
   "pygments_lexer": "ipython2",
   "version": "2.7.13"
  }
 },
 "nbformat": 4,
 "nbformat_minor": 2
}
