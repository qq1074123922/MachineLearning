{
 "cells": [
  {
   "cell_type": "code",
   "execution_count": 23,
   "metadata": {
    "collapsed": true
   },
   "outputs": [],
   "source": [
    "from numpy import *\n",
    "from pandas import *\n",
    "def loaddata():\n",
    "    data = []\n",
    "    y = []\n",
    "    f = open(\"testSet.txt\")\n",
    "    content = f.readlines()\n",
    "    for x in content:\n",
    "        line = x.strip().split()\n",
    "        data.append([1.0, float(line[0]), float(line[1])])\n",
    "        y.append(int(line[2]))\n",
    "    return array(data), array(y)\n",
    "\n",
    "def sigmoid(Z1):\n",
    "    A1 = 1.0 / (1 + exp(-Z1))\n",
    "    return A1\n",
    "\n",
    "def fc(x, w):\n",
    "    a1 = sigmoid(x.dot(w))\n",
    "    return a1\n",
    "\n",
    "def bp(x, w, yi, a1, ep):\n",
    "    dw = x * (yi - a1)\n",
    "    w += -ep * dw\n",
    "    return w\n",
    "\n",
    "def train(X, w, y, loops):\n",
    "    for k in xrange(loops):\n",
    "        trainSet = range(X.shape[0])\n",
    "        for i in xrange(X.shape[0]):\n",
    "            ep = (4.0 / 1.0 + i + k) + 0.001\n",
    "            index = int(random.uniform(0, len(trainSet)))\n",
    "            a1 = fc(X[index], w)\n",
    "            bp(X[index], w, y[index],a1, ep)\n",
    "            del(trainSet[index])\n",
    "\n",
    "def predict(X, w, y):\n",
    "    Z1 = X.dot(w)\n",
    "    A1 = sigmoid(Z1)\n",
    "    return A1\n",
    "    \n",
    "def test():\n",
    "    f = open(\"horseColicTraining.txt\")   \n",
    "    data = []\n",
    "    y = []\n",
    "    for x in f.readlines():\n",
    "        x = x.strip().split('\\t')\n",
    "        data.append(map(float,x[:21]))\n",
    "        y.append(float(x[21])) \n",
    "    X = array(data)\n",
    "    y = array(y)\n",
    "    w = ones(X.shape[1])\n",
    "    train(X, w, y, 1000)\n",
    "    print w\n",
    "    \n",
    "    f = open(\"horseColicTest.txt\")\n",
    "    y = []\n",
    "    data = []\n",
    "    for x in f.readlines():\n",
    "        x = x.strip().split()\n",
    "        data.append(map(float,x[:21]))\n",
    "        y.append(float(x[21]))\n",
    "    XT = array(data)\n",
    "    y = array(y)\n",
    "    y_bar = predict(XT, w, y) \n",
    "    print y_bar\n",
    "    print y\n",
    "    y_bar = y_bar.astype('int')\n",
    "    acc = 100.0 * sum( y_bar == y ) / y.size\n",
    "    \n",
    "    print \"Acc is {}%\".format(acc)          "
   ]
  },
  {
   "cell_type": "code",
   "execution_count": 24,
   "metadata": {},
   "outputs": [
    {
     "name": "stdout",
     "output_type": "stream",
     "text": [
      "[  1.14379625e+08   1.86746801e+08   2.13952155e+09   6.86106894e+09\n",
      "   2.15892156e+09   1.84539212e+08   1.49896014e+08   2.57826815e+08\n",
      "   1.17542364e+08   2.39099875e+08   2.31566448e+08   1.95529586e+08\n",
      "   9.23176237e+07   8.82407443e+07   1.11458149e+08   1.83326924e+08\n",
      "   2.17745150e+08   3.80581050e+09   1.33243560e+09   1.00596976e+08\n",
      "   1.16548635e+08]\n",
      "[ 1.  1.  1.  1.  1.  1.  1.  1.  1.  1.  1.  1.  1.  1.  1.  1.  1.  1.\n",
      "  1.  1.  1.  1.  1.  1.  1.  1.  1.  1.  1.  1.  1.  1.  1.  1.  1.  1.\n",
      "  1.  1.  1.  1.  1.  1.  1.  1.  1.  1.  1.  1.  1.  1.  1.  1.  1.  1.\n",
      "  1.  1.  1.  1.  1.  1.  1.  1.  1.  1.  1.  1.  1.]\n",
      "[ 1.  1.  1.  0.  1.  1.  1.  1.  1.  0.  1.  0.  0.  1.  1.  1.  1.  0.\n",
      "  0.  0.  1.  1.  0.  0.  1.  1.  1.  1.  1.  1.  1.  1.  1.  0.  1.  0.\n",
      "  1.  1.  1.  1.  1.  1.  1.  0.  1.  1.  1.  1.  1.  0.  0.  0.  0.  1.\n",
      "  1.  1.  1.  0.  1.  1.  1.  0.  1.  1.  0.  1.  0.]\n",
      "Acc is 70.1492537313%\n"
     ]
    }
   ],
   "source": [
    "test()"
   ]
  },
  {
   "cell_type": "code",
   "execution_count": 12,
   "metadata": {},
   "outputs": [
    {
     "ename": "NameError",
     "evalue": "name 'XT' is not defined",
     "output_type": "error",
     "traceback": [
      "\u001b[1;31m---------------------------------------------------------------------------\u001b[0m",
      "\u001b[1;31mNameError\u001b[0m                                 Traceback (most recent call last)",
      "\u001b[1;32m<ipython-input-12-514bdc087bd9>\u001b[0m in \u001b[0;36m<module>\u001b[1;34m()\u001b[0m\n\u001b[1;32m----> 1\u001b[1;33m \u001b[1;32mprint\u001b[0m \u001b[0mXT\u001b[0m\u001b[1;33m\u001b[0m\u001b[0m\n\u001b[0m",
      "\u001b[1;31mNameError\u001b[0m: name 'XT' is not defined"
     ]
    }
   ],
   "source": []
  },
  {
   "cell_type": "code",
   "execution_count": null,
   "metadata": {
    "collapsed": true
   },
   "outputs": [],
   "source": []
  }
 ],
 "metadata": {
  "kernelspec": {
   "display_name": "Python 2",
   "language": "python",
   "name": "python2"
  },
  "language_info": {
   "codemirror_mode": {
    "name": "ipython",
    "version": 2
   },
   "file_extension": ".py",
   "mimetype": "text/x-python",
   "name": "python",
   "nbconvert_exporter": "python",
   "pygments_lexer": "ipython2",
   "version": "2.7.13"
  }
 },
 "nbformat": 4,
 "nbformat_minor": 2
}
