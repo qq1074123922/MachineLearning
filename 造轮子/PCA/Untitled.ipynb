{
 "cells": [
  {
   "cell_type": "code",
   "execution_count": 37,
   "metadata": {
    "collapsed": true
   },
   "outputs": [],
   "source": [
    "'''\n",
    "Created on Jun 1, 2011\n",
    "\n",
    "@author: Peter Harrington\n",
    "'''\n",
    "from numpy import *\n",
    "\n",
    "def loadDataSet(fileName, delim='\\t'):\n",
    "    fr = open(fileName)\n",
    "    stringArr = [line.strip().split(delim) for line in fr.readlines()]\n",
    "    datArr = [map(float,line) for line in stringArr]\n",
    "    return mat(datArr)\n",
    "\n",
    "def pca(dataMat, topNfeat=9999999):\n",
    "    meanVals = mean(dataMat, axis=0)\n",
    "    meanRemoved = dataMat - meanVals #remove mean\n",
    "    covMat = cov(meanRemoved, rowvar=0)\n",
    "    eigVals,eigVects = linalg.eig(mat(covMat))\n",
    "    eigValInd = argsort(eigVals)            #sort, sort goes smallest to largest\n",
    "    eigValInd = eigValInd[:-(topNfeat+1):-1]  #cut off unwanted dimensions\n",
    "    redEigVects = eigVects[:,eigValInd]       #reorganize eig vects largest to smallest\n",
    "    lowDDataMat = meanRemoved * redEigVects#transform data into new dimensions\n",
    "    reconMat = (lowDDataMat * redEigVects.T) + meanVals\n",
    "    return lowDDataMat, reconMat\n",
    "\n",
    "def replaceNanWithMean(): \n",
    "    datMat = loadDataSet('secom.data', ' ')\n",
    "    numFeat = shape(datMat)[1]\n",
    "    for i in range(numFeat):\n",
    "        meanVal = mean(datMat[nonzero(~isnan(datMat[:,i].A))[0],i]) #values that are not NaN (a number)\n",
    "        datMat[nonzero(isnan(datMat[:,i].A))[0],i] = meanVal  #set NaN values to mean\n",
    "    return datMat"
   ]
  },
  {
   "cell_type": "code",
   "execution_count": 39,
   "metadata": {},
   "outputs": [
    {
     "name": "stdout",
     "output_type": "stream",
     "text": [
      "[[-2.51033597  0.15840394]\n",
      " [-2.86915379  0.5092619 ]\n",
      " [ 0.09741085 -0.20728318]\n",
      " ..., \n",
      " [-0.50166225 -0.62056456]\n",
      " [-0.05898712 -0.02335614]\n",
      " [-0.18978714 -1.37276015]]\n",
      "[[ 10.235186  11.321997]\n",
      " [ 10.122339  11.810993]\n",
      " [  9.190236   8.904943]\n",
      " ..., \n",
      " [  9.854922   9.201393]\n",
      " [  9.11458    9.134215]\n",
      " [ 10.334899   8.543604]]\n"
     ]
    }
   ],
   "source": [
    "X = loadDataSet(\"testSet.txt\")\n",
    "lX, rX = pca(X, 2)\n",
    "print lX\n",
    "print rX"
   ]
  },
  {
   "cell_type": "code",
   "execution_count": 210,
   "metadata": {
    "collapsed": true
   },
   "outputs": [],
   "source": [
    "from numpy import *\n",
    "def loadData(name, delim='\\t'):\n",
    "    data = []\n",
    "    f = open(name)\n",
    "    for x in f.readlines():\n",
    "        x = x.strip().split(delim)\n",
    "        data.append(map(float, x))\n",
    "    return array(data)\n",
    "\n",
    "def pca(X, topN):\n",
    "    mv =mean(X, axis=0)\n",
    "    covX = cov(X-mv, rowvar=0)\n",
    "    e, eV = linalg.eig(covX)\n",
    "    ei = argsort(e)[:-(topN+1):-1]\n",
    "    eVV = eV[:,ei]\n",
    "    XX = (X-mv).dot(eVV)\n",
    "    XXX = XX.dot(eVV.T) + mv\n",
    "    return XX, XXX\n",
    "\n",
    "def rNan():\n",
    "    X = loadData(\"secom.data\", delim=' ')\n",
    "    for j in xrange(X.shape[1]):\n",
    "        mv = mean(X[~isnan(X[:,j]), j])\n",
    "        X[isnan(X[:,j]), j] = mv\n",
    "    return X\n",
    "\n",
    "#绘图并选择重要的特征\n",
    "def cF():\n",
    "    X = rNan()\n",
    "    mv= mean(X, axis=0)\n",
    "    covX = cov(X-mv, rowvar=0)\n",
    "    e, eV = linalg.eig(covX)\n",
    "    ei = argsort(e)[::-1]\n",
    "    percent = 100.0 * e[ei] / sum(e)   \n",
    "    fig = plt.figure()\n",
    "    ax = fig.add_subplot(111)\n",
    "    ax.plot(range(30), percent[:30], marker='^')\n",
    "    plt.xlabel('Principal Component Number')\n",
    "    plt.ylabel('Percentage of Variance')\n",
    "    plt.show()"
   ]
  },
  {
   "cell_type": "code",
   "execution_count": 211,
   "metadata": {},
   "outputs": [
    {
     "name": "stdout",
     "output_type": "stream",
     "text": [
      "[[-1.89336908 -0.84073271]\n",
      " [-0.81802217 -1.45085827]\n",
      " [-2.38909694 -0.74188979]\n",
      " ..., \n",
      " [-0.14845876  0.19464863]\n",
      " [ 0.20332644  0.55341912]\n",
      " [ 0.27457093  0.84169936]]\n",
      "[[ 10.650689  10.159357]\n",
      " [ 10.616011   8.923468]\n",
      " [ 10.82275   10.634658]\n",
      " ..., \n",
      " [  8.861538   9.202453]\n",
      " [  8.372471   9.087203]\n",
      " [  8.088944   9.175485]]\n"
     ]
    }
   ],
   "source": [
    "X = loadDataSet(\"testSet.txt\")\n",
    "lX, rX = pca(X, 2)\n",
    "print lX\n",
    "print rX"
   ]
  },
  {
   "cell_type": "code",
   "execution_count": 212,
   "metadata": {
    "collapsed": true
   },
   "outputs": [],
   "source": [
    "X = rNan()\n",
    "lX, rX = pca(X, 2)"
   ]
  },
  {
   "cell_type": "code",
   "execution_count": 213,
   "metadata": {},
   "outputs": [
    {
     "data": {
      "image/png": "[encoded data removed]",
      "text/plain": [
       "<matplotlib.figure.Figure at 0x1378ff30>"
      ]
     },
     "metadata": {},
     "output_type": "display_data"
    }
   ],
   "source": [
    "#选取重要的特征\n",
    "cF()"
   ]
  },
  {
   "cell_type": "code",
   "execution_count": 214,
   "metadata": {},
   "outputs": [
    {
     "name": "stdout",
     "output_type": "stream",
     "text": [
      "[[ 5183.89616507  3022.64772377  -688.38624272    57.92893142\n",
      "   -349.28054496   -41.1987254 ]\n",
      " [ 1866.69728394  4021.63902468  1505.57352582   199.23992427\n",
      "    640.23125989   -46.32552024]\n",
      " [ 3154.74165413  3461.98581552  1855.44207771  -153.33360802\n",
      "    139.53362841   -29.23236202]\n",
      " ..., \n",
      " [ 3821.21714302   157.30328822  1198.46485098   -15.13555733\n",
      "   -479.52922352   -53.46157085]\n",
      " [ 4271.04023715  1300.47276359  -381.63452019   298.64738407\n",
      "   -757.62307958   -51.07238061]\n",
      " [ 3562.87329382  3727.60719872   418.43547367   -35.86509797\n",
      "    132.60920158   -16.28202608]]\n",
      "[[  3.01066325e+03   2.49406731e+03   2.20213724e+03 ...,   1.67202673e-02\n",
      "    5.36050927e-03   1.01506849e+02]\n",
      " [  3.01255070e+03   2.49352915e+03   2.20206516e+03 ...,   1.63462557e-02\n",
      "    5.28251139e-03   9.73646175e+01]\n",
      " [  3.01275173e+03   2.49627540e+03   2.20235917e+03 ...,   1.64522016e-02\n",
      "    5.31579865e-03   1.00869145e+02]\n",
      " ..., \n",
      " [  3.01234748e+03   2.49961509e+03   2.20198193e+03 ...,   1.67269171e-02\n",
      "    5.36026995e-03   1.03522363e+02]\n",
      " [  3.01087087e+03   2.49723643e+03   2.20194519e+03 ...,   1.69040634e-02\n",
      "    5.40037429e-03   1.02983194e+02]\n",
      " [  3.01192407e+03   2.49369891e+03   2.20207495e+03 ...,   1.64932589e-02\n",
      "    5.31465060e-03   9.98949259e+01]]\n"
     ]
    }
   ],
   "source": [
    "#对上图的观察可知， 前6个特征是非常重要的，故而选取前6个特征\n",
    "X = rNan()\n",
    "lX, rX = pca(X, 6)\n",
    "print lX\n",
    "print rX"
   ]
  },
  {
   "cell_type": "code",
   "execution_count": null,
   "metadata": {
    "collapsed": true
   },
   "outputs": [],
   "source": []
  },
  {
   "cell_type": "code",
   "execution_count": null,
   "metadata": {
    "collapsed": true
   },
   "outputs": [],
   "source": []
  },
  {
   "cell_type": "code",
   "execution_count": null,
   "metadata": {
    "collapsed": true
   },
   "outputs": [],
   "source": []
  },
  {
   "cell_type": "code",
   "execution_count": null,
   "metadata": {
    "collapsed": true
   },
   "outputs": [],
   "source": []
  },
  {
   "cell_type": "code",
   "execution_count": null,
   "metadata": {
    "collapsed": true
   },
   "outputs": [],
   "source": []
  }
 ],
 "metadata": {
  "kernelspec": {
   "display_name": "Python 2",
   "language": "python",
   "name": "python2"
  },
  "language_info": {
   "codemirror_mode": {
    "name": "ipython",
    "version": 2
   },
   "file_extension": ".py",
   "mimetype": "text/x-python",
   "name": "python",
   "nbconvert_exporter": "python",
   "pygments_lexer": "ipython2",
   "version": "2.7.13"
  }
 },
 "nbformat": 4,
 "nbformat_minor": 2
}
